{
 "cells": [
  {
   "cell_type": "code",
   "execution_count": 1,
   "metadata": {
    "collapsed": false
   },
   "outputs": [],
   "source": [
    "# first import the POMDPs.jl interface\n",
    "using POMDPs\n",
    "using POMDPDistributions\n",
    "using Distributions\n",
    "using SARSOP\n",
    "using POMDPModels\n",
    "using Iterators"
   ]
  },
  {
   "cell_type": "code",
   "execution_count": 48,
   "metadata": {
    "collapsed": false
   },
   "outputs": [
    {
     "data": {
      "text/plain": [
       "expectedViable (generic function with 1 method)"
      ]
     },
     "execution_count": 48,
     "metadata": {},
     "output_type": "execute_result"
    }
   ],
   "source": [
    "################ Functions and Structures definitions #######################\n",
    "\n",
    "# EmbryoState definition\n",
    "type EmbryoState <: State\n",
    "    v::Array{Int64,1} # viable or not? \n",
    "    n::Array{Int64,1} # developmental day achieved {1,2,3,4,5}\n",
    "    done::Int64; # done? (only if TR or D at last step)\n",
    "    day::Int64; # culture day\n",
    "end\n",
    "\n",
    "# initialize day1 embryos with known viability\n",
    "EmbryoState(v::Array{Int64,1}) = EmbryoState(v,ones(Int64,v),0,1);\n",
    "EmbryoState(v::Array{Int64,1}, n::Array{Int64,1}) = EmbryoState(v,n,0,1);\n",
    "\n",
    "function ==(s1::EmbryoState, s2::EmbryoState)\n",
    "    return (s1.v == s2.v) && (s1.n == s2.n) && (s1.done == s2.done) && (s1.day == s2.day);\n",
    "end\n",
    "\n",
    "# convert EmbryoState to string for hashing purposes\n",
    "function embryoStateToString(es::EmbryoState)\n",
    "    sOut = \"\";\n",
    "    for i in 1:length(es.v)\n",
    "        sOut = string(sOut, es.v[i]);\n",
    "    end\n",
    "    for i in 1:length(es.n)\n",
    "        sOut = string(sOut, es.n[i]);\n",
    "    end\n",
    "    sOut = string(sOut, es.done);\n",
    "    sOut = string(sOut, es.day);\n",
    "    return sOut;\n",
    "end\n",
    "\n",
    "# convert string to EmbryoState for hashing purposes\n",
    "function stringToEmbryoState(s::ASCIIString)\n",
    "   \n",
    "    m = convert(Int64, length(s)/2) - 1;\n",
    "    v = zeros(Int64, m);\n",
    "    n = zeros(Int64, m);\n",
    "    \n",
    "    for i in 1:m\n",
    "        v[i] = parse(Int64,s[i]);\n",
    "    end\n",
    "    for i in 1:m\n",
    "        n[i] = parse(Int64,s[m+i]);\n",
    "    end\n",
    "    \n",
    "    done = parse(Int64, s[end-1]);\n",
    "    day = parse(Int64, s[end]);\n",
    "        \n",
    "    return EmbryoState(v,n,done,day);\n",
    "end\n",
    "\n",
    "# convert Array{string} to Array{EmbryoState} for hashing purposes\n",
    "function stringToEmbryoState(sa::Array{ASCIIString,1})\n",
    "   \n",
    "    nStates = length(sa);\n",
    "    ea = cell(nStates);\n",
    "    \n",
    "    for j in 1:nStates\n",
    "        s = sa[j];\n",
    "    \n",
    "        m = convert(Int64, length(s)/2) - 1;\n",
    "        v = zeros(Int64, m);\n",
    "        n = zeros(Int64, m);\n",
    "\n",
    "        for i in 1:m\n",
    "            v[i] = parse(Int64,s[i]);\n",
    "        end\n",
    "        for i in 1:m\n",
    "            n[i] = parse(Int64,s[m+i]);\n",
    "        end\n",
    "        d = parse(Int64, s[end]);\n",
    "        \n",
    "        done = parse(Int64, s[end-1]);\n",
    "        day = parse(Int64, s[end]);\n",
    "        \n",
    "        ea[j] = EmbryoState(v,n,done,day);\n",
    "    end\n",
    "    \n",
    "    return ea;\n",
    "end\n",
    "\n",
    "function Base.copy!(s1::EmbryoState, s2::EmbryoState)\n",
    "    s1.v = s2.v;\n",
    "    s1.n = s2.n;\n",
    "    s1.done = s2.done;\n",
    "    s1.day = s2.day;\n",
    "    s1\n",
    "end\n",
    "\n",
    "# EmbryoAction definition\n",
    "type EmbryoAction <: Action\n",
    "    a::String # {CC = continue culture, TL = measure time lapse params, B = biopsy (genetic testing)}\n",
    "    # if we're transferring, TR = transfer to patient}\n",
    "    tr::Array{Int64,1}; # vector of embryo nums to transfer (if a == TR)\n",
    "end\n",
    "\n",
    "# Define embryo culture MDP scenario\n",
    "type EmbryoCulture <: POMDP\n",
    "    #rf::Function; # calculates reward based on input S,A\n",
    "    #tf::Function; #\n",
    "    m::Int64; # number of embryos starting in culture\n",
    "    vStart::Array{Int64,1}; # starting viability info\n",
    "    nStart::Array{Int64,1}; # starting cell #\n",
    "    dayStart::Int64;\n",
    "    discount::Float64; # = 1; # discount_factor\n",
    "    pv::Float64; # = 0.9; # probability that a viable embryo will continue to be viable\n",
    "    pn::Array{Float64,1}; # = [.7; .95]; # probability that a [nonviable, viable] embryo will have normal cell division\n",
    "end\n",
    "\n",
    "EmbryoCulture(m::Int64, vStart::Array{Int64,1}, \n",
    "    nStart::Array{Int64,1}) = EmbryoCulture(m,vStart,nStart,1,1,0.9,[0.7;0.95]);\n",
    "EmbryoCulture(m::Int64, vStart::Array{Int64,1}, nStart::Array{Int64,1}, \n",
    "    dayStart::Int64) = EmbryoCulture(m,vStart,nStart,dayStart,1,0.9,[0.7;0.95]);\n",
    "\n",
    "# given number of actual viable embryos and culture day #,\n",
    "# return expected # of viable embryos at the time of transfer\n",
    "function expectedViable(nViable::Int64, nDay::Int64)\n",
    "    return nViable * (2 ^ (-(5 - nDay)/4))\n",
    "end\n"
   ]
  },
  {
   "cell_type": "code",
   "execution_count": 3,
   "metadata": {
    "collapsed": false
   },
   "outputs": [
    {
     "data": {
      "text/plain": [
       "numRemainingStates (generic function with 1 method)"
      ]
     },
     "execution_count": 3,
     "metadata": {},
     "output_type": "execute_result"
    }
   ],
   "source": [
    "# state space functions and structures\n",
    "# define iterator over entire EmbryoState space\n",
    "type EmbryoStateIterator\n",
    "    m::Int64;\n",
    "    startState::EmbryoState;\n",
    "    minVals::Vector{Int64};\n",
    "    maxVals::Vector{Int64};\n",
    "end\n",
    "\n",
    "# can iterate over all states in embryo culture with m embryos\n",
    "EmbryoStateIterator(m::Int64) = EmbryoStateIterator(m,EmbryoState(ones(m),ones(m),0,1),\n",
    "                                            [zeros(m);ones(m)],[ones(m);5*ones(m)]);\n",
    "# can also iterate over possible next states\n",
    "EmbryoStateIterator(s::EmbryoState) = EmbryoStateIterator(length(s.v),s,[zeros(length(s.v));s.n],\n",
    "    [s.v;5*ones(length(s.v))]);\n",
    "\n",
    "function Base.start(e::EmbryoStateIterator)\n",
    "    return e.startState;\n",
    "end\n",
    "\n",
    "function Base.done(e::EmbryoStateIterator, state)\n",
    "    return (state.v[1] == -1);\n",
    "    #return (state.v == e.minVals[1:m]) && (state.n == e.maxVals[(m+1):(2*m)]);\n",
    "end\n",
    "\n",
    "function Base.next(e::EmbryoStateIterator, state)\n",
    "    iterVector = [state.v ; state.n];\n",
    "    m = e.m;\n",
    "    i = 2*m;\n",
    "    \n",
    "    # increment development days, decrement viability\n",
    "    while (i > m) && (iterVector[i] == e.maxVals[i])\n",
    "        iterVector[i] = e.minVals[i];\n",
    "        i -= 1;\n",
    "    end\n",
    "    \n",
    "    while (i < (m+1)) && (i > 1) && (iterVector[i] == e.minVals[i])\n",
    "        iterVector[i] = e.maxVals[i];\n",
    "        i -= 1;\n",
    "    end\n",
    "    \n",
    "    if (i > m)\n",
    "        iterVector[i] += 1;  \n",
    "    else\n",
    "        iterVector[i] -= 1;\n",
    "    end\n",
    "    \n",
    "    return (state,EmbryoState(iterVector[1:m], iterVector[(m+1):(2*m)],state.done,state.day))\n",
    "end\n",
    "\n",
    "type EmbryoStateSpace <: AbstractSpace\n",
    "    # only variable is state iterator \n",
    "    states::EmbryoStateIterator; \n",
    "end\n",
    "\n",
    "function numRemainingStates(space::EmbryoStateSpace)\n",
    "    minVals = space.states.minVals;\n",
    "    maxVals = space.states.maxVals;\n",
    "    nums = maxVals - minVals + ones(maxVals);\n",
    "    \n",
    "    stateProd = 1;\n",
    "    for i in 1:length(nums)\n",
    "        stateProd *= nums[i];\n",
    "    end\n",
    "    return stateProd;\n",
    "end"
   ]
  },
  {
   "cell_type": "code",
   "execution_count": 4,
   "metadata": {
    "collapsed": false
   },
   "outputs": [
    {
     "data": {
      "text/plain": [
       "index (generic function with 6 methods)"
      ]
     },
     "execution_count": 4,
     "metadata": {},
     "output_type": "execute_result"
    }
   ],
   "source": [
    "# returns EmbryoStateSpace\n",
    "function POMDPs.states(mdp::EmbryoCulture)\n",
    "    return EmbryoStateSpace(EmbryoStateIterator(EmbryoState(mdp.vStart,mdp.nStart,0,1)));\n",
    "end;\n",
    "\n",
    "# returns EmbryoStateIterator\n",
    "function POMDPs.domain(space::EmbryoStateSpace)\n",
    "    return space.states;\n",
    "end\n",
    "\n",
    "# define function to uniformly sample state space\n",
    "# max num states is 10^m\n",
    "function POMDPs.rand!(es::EmbryoState, space::EmbryoStateSpace)\n",
    "    maxNumStates = numRemainingStates(space); #10^(space.states.m);\n",
    "    randStateNum = convert(Int64,ceil(rand(1)*maxNumStates)[1]);\n",
    "    sp = start(takenth(space.states,randStateNum));\n",
    "    copy!(es, sp)\n",
    "    es\n",
    "end\n",
    "\n",
    "# for now, assume nStart <= dayStart\n",
    "function POMDPs.n_states(mdp::EmbryoCulture)\n",
    "    n = 2^(sum(mdp.vStart));\n",
    "    \n",
    "    for i in 1:length(mdp.nStart)\n",
    "        n *= (5 - mdp.dayStart + 1); # min(5-mdp.dayStart+1,5-mdp.nStart[i]+1); \n",
    "    end\n",
    "    \n",
    "    n*= (5 - mdp.dayStart + 1); # extra dim for day\n",
    "    return n;\n",
    "end\n",
    "\n",
    "function POMDPs.n_actions(mdp::EmbryoCulture)\n",
    "    return 4 + 2^(mdp.m);\n",
    "end\n",
    "\n",
    "function POMDPs.discount(mdp::EmbryoCulture)\n",
    "    return mdp.discount; \n",
    "end\n",
    "\n",
    "function POMDPs.index(mdp::EmbryoCulture, s::EmbryoState)\n",
    "    dimSizes = [[mdp.vStart + 1];[5 - mdp.dayStart*ones(Int64, mdp.m) + 1];[5 - mdp.dayStart + 1]];\n",
    "    currInds = [[mdp.vStart - s.v + 1];[s.n - mdp.nStart + 1];[s.day - mdp.dayStart + 1]];\n",
    "    return sub2ind(dimSizes, currInds);\n",
    "end"
   ]
  },
  {
   "cell_type": "code",
   "execution_count": 5,
   "metadata": {
    "collapsed": false
   },
   "outputs": [
    {
     "data": {
      "text/plain": [
       "EmbryoState([0,0],[5,5],0,1)"
      ]
     },
     "metadata": {},
     "output_type": "display_data"
    },
    {
     "data": {
      "text/plain": [
       "EmbryoState([1,0],[4,4],0,1)"
      ]
     },
     "metadata": {},
     "output_type": "display_data"
    },
    {
     "data": {
      "text/plain": [
       "EmbryoState([1,0],[4,5],0,1)"
      ]
     },
     "metadata": {},
     "output_type": "display_data"
    },
    {
     "data": {
      "text/plain": [
       "EmbryoState([1,0],[5,4],0,1)"
      ]
     },
     "metadata": {},
     "output_type": "display_data"
    },
    {
     "data": {
      "text/plain": [
       "EmbryoState([1,0],[5,5],0,1)"
      ]
     },
     "metadata": {},
     "output_type": "display_data"
    },
    {
     "data": {
      "text/plain": [
       "EmbryoState([0,0],[4,4],0,1)"
      ]
     },
     "metadata": {},
     "output_type": "display_data"
    },
    {
     "data": {
      "text/plain": [
       "EmbryoState([0,0],[4,5],0,1)"
      ]
     },
     "metadata": {},
     "output_type": "display_data"
    },
    {
     "data": {
      "text/plain": [
       "EmbryoState([0,0],[5,4],0,1)"
      ]
     },
     "metadata": {},
     "output_type": "display_data"
    },
    {
     "data": {
      "text/plain": [
       "EmbryoState([0,0],[5,5],0,1)"
      ]
     },
     "metadata": {},
     "output_type": "display_data"
    },
    {
     "name": "stdout",
     "output_type": "stream",
     "text": [
      "elapsed time: 0.755795647 seconds\n"
     ]
    },
    {
     "data": {
      "text/plain": [
       "0.755795647"
      ]
     },
     "execution_count": 5,
     "metadata": {},
     "output_type": "execute_result"
    }
   ],
   "source": [
    "# test cell only\n",
    "tic()\n",
    "mdp = EmbryoCulture(2, [1;0], [4;4]);\n",
    "stateSpace = states(mdp)\n",
    "\n",
    "startingState = EmbryoState(mdp.vStart,mdp.nStart);\n",
    "randState = rand!(startingState, stateSpace)\n",
    "\n",
    "display(randState)\n",
    "\n",
    "i = 1;\n",
    "for es in domain(stateSpace)\n",
    "    i += 1;\n",
    "    display(es)\n",
    "    if i > 60\n",
    "        break;\n",
    "    end\n",
    "end\n",
    "toc()"
   ]
  },
  {
   "cell_type": "code",
   "execution_count": 6,
   "metadata": {
    "collapsed": false
   },
   "outputs": [
    {
     "data": {
      "text/plain": [
       "rand! (generic function with 27 methods)"
      ]
     },
     "execution_count": 6,
     "metadata": {},
     "output_type": "execute_result"
    }
   ],
   "source": [
    "# EmbryoActionSpace definitions and functions\n",
    "type EmbryoActionSpace <: AbstractSpace\n",
    "    actions::Array{EmbryoAction,1}\n",
    "end\n",
    "\n",
    "function POMDPs.actions(mdp::EmbryoCulture)\n",
    "    \n",
    "    acts = Array(EmbryoAction,(2^(mdp.m))+4);\n",
    "    acts[1] = EmbryoAction(\"CC\", []); # continue culture only\n",
    "    acts[2] = EmbryoAction(\"TL\", []); # collect cell cycle params\n",
    "    acts[3] = EmbryoAction(\"B\", []); # biopsy all\n",
    "    acts[4] = EmbryoAction(\"D\", []); # discard all\n",
    "    \n",
    "    for i in 1:(2^(mdp.m))\n",
    "        transferBits = bits(i-1)[end-mdp.m+1:end];\n",
    "        transferVector = Array(Bool,mdp.m);\n",
    "        \n",
    "        for j in 1:mdp.m\n",
    "            transferVector[j] = parse(Bool,transferBits[j]);\n",
    "        end\n",
    "        \n",
    "        acts[i+4] = EmbryoAction(\"TR\", transferVector);\n",
    "    end\n",
    "    \n",
    "    return EmbryoActionSpace(acts)\n",
    "end\n",
    "\n",
    "POMDPs.actions(mdp::EmbryoCulture, s::EmbryoState, as::EmbryoActionSpace=actions(mdp)) = as;\n",
    "\n",
    "function POMDPs.domain(space::EmbryoActionSpace)\n",
    "    return space.actions; \n",
    "end\n",
    "\n",
    "function POMDPs.rand!(ea::EmbryoAction, space::EmbryoActionSpace)\n",
    "    ap = space.actions[rand(1:end)];\n",
    "    ea.a = ap.a;\n",
    "    ea.tr = ap.tr;\n",
    "    ea\n",
    "end\n"
   ]
  },
  {
   "cell_type": "code",
   "execution_count": 7,
   "metadata": {
    "collapsed": false
   },
   "outputs": [
    {
     "data": {
      "text/plain": [
       "rand! (generic function with 28 methods)"
      ]
     },
     "execution_count": 7,
     "metadata": {},
     "output_type": "execute_result"
    }
   ],
   "source": [
    "# transition distribution stuff\n",
    "# define transition distribution\n",
    "type EmbryoCultureDistribution <: AbstractDistribution\n",
    "    tD::Dict{ASCIIString, Float64}; # s' ==> p(s')\n",
    "end\n",
    "\n",
    "# initialize transition distribution (for preallocation only)\n",
    "function POMDPs.create_transition_distribution(mdp::EmbryoCulture)\n",
    "    # initialize dict with neighbors => probabilities \n",
    "    # init with only min v, max n to begin with\n",
    "    # possibly define iterator if space becomes too large\n",
    "    \n",
    "    #tD = Dict{ASCIIString, Float64}; # transition distribution\n",
    "    tD = [embryoStateToString(EmbryoState(zeros(Int64, mdp.m), \n",
    "        5*ones(Int64, mdp.m))) => 1.0];\n",
    "    \n",
    "    return EmbryoCultureDistribution(tD);\n",
    "end\n",
    "\n",
    "# get all possible next states\n",
    "function POMDPs.domain(d::EmbryoCultureDistribution)\n",
    "    return stringToEmbryoState(collect(keys(d.tD))); \n",
    "end\n",
    "\n",
    "# get p(s')\n",
    "function POMDPs.pdf(d::EmbryoCultureDistribution, s::EmbryoState)\n",
    "    sk = embryoStateToString(s);\n",
    "    if haskey(d.tD, sk)\n",
    "        return d.tD[sk];\n",
    "    else\n",
    "        return 0.0;\n",
    "    end\n",
    "end\n",
    "\n",
    "# randomly sample next state according to transition probs\n",
    "function POMDPs.rand!(d::EmbryoCultureDistribution, s::EmbryoState)\n",
    "    keyArray = collect(keys(d.tD));\n",
    "    pArray = collect(values(d.tD));\n",
    "    \n",
    "    cat = Categorical(pArray);\n",
    "    randState = stringToEmbryoState(keyArray[rand(cat)]);\n",
    "    copy!(s, randState);\n",
    "    return s;\n",
    "end\n",
    "\n"
   ]
  },
  {
   "cell_type": "code",
   "execution_count": 8,
   "metadata": {
    "collapsed": false
   },
   "outputs": [
    {
     "data": {
      "text/plain": [
       "transition (generic function with 9 methods)"
      ]
     },
     "execution_count": 8,
     "metadata": {},
     "output_type": "execute_result"
    }
   ],
   "source": [
    "# transition model\n",
    "function POMDPs.transition(mdp::EmbryoCulture, s::EmbryoState, a::EmbryoAction,\n",
    "    d::EmbryoCultureDistribution=create_transition_distribution(mdp))\n",
    "\n",
    "    # if we're already \"done\" or if action leads to terminal state\n",
    "    # (action = TR or D, day = 5) then can't change state\n",
    "    if (s.day > 4) || (s.done > 0) || (a.a == \"TR\") || (a.a == \"D\")\n",
    "        # can not transition out of done state\n",
    "        d.tD = [embryoStateToString(EmbryoState(s.v, s.n, 1, s.day + 1)) => 1.0];\n",
    "        return d;\n",
    "    end\n",
    "    \n",
    "    pv = mdp.pv; # p(v(t+1) = 1 | v(t) = 1)\n",
    "    pn = mdp.pn; # p(n(t+1) = n(t) + 1) for [nonviable, viable] embryo \n",
    "    \n",
    "    # biopsy slightly harms embryos\n",
    "    if a.a == \"B\" \n",
    "        pv = 0.9*pv; \n",
    "        pn = 0.9*pn;\n",
    "    end \n",
    "    \n",
    "    # calc number of possible next states (<= 4^m)\n",
    "    nChange = sum(s.v .> 0) + sum(s.n .< 5);\n",
    "    numNeighbors = 2^nChange;\n",
    "    indChange = [s.v .> 0; s.n .< 5];\n",
    "\n",
    "    # re-init dictionary w/ s' => p(s')\n",
    "    d.tD = [embryoStateToString(EmbryoState(zeros(Int64,mdp.m), \n",
    "        5*(ones(Int64,mdp.m)), s.done, s.day+1)) => 0.0];\n",
    "    \n",
    "    for i in 1:numNeighbors\n",
    "\n",
    "        vNext = deepcopy(s.v);\n",
    "        nNext = deepcopy(s.n);\n",
    "        pNext = 1;\n",
    "        \n",
    "        # which indices to change in indChange (length is nChange)\n",
    "        currNum = bits(i-1)[end-nChange+1:end];\n",
    "        cInd = 1;\n",
    "        \n",
    "        for j in 1:(2*mdp.m)\n",
    "            if (j < (mdp.m + 1))\n",
    "                \n",
    "                if indChange[j] # if we can change the current value\n",
    "\n",
    "                    if parse(Bool,currNum[cInd]) # v(t) = 1 -> v(t+1) = 0\n",
    "                        vNext[j] -= 1; # decrement viability of embryo j\n",
    "                        pNext *= (1-pv); # p(viable -> nonviable)\n",
    "                    else # v(t) = 1 -> v(t+1) = 1\n",
    "                        pNext *= pv; # p(viable -> viable)\n",
    "                    end\n",
    "                    \n",
    "                    cInd += 1;\n",
    "                end\n",
    "            elseif (j > mdp.m)\n",
    "\n",
    "                if indChange[j] # if we can change current value\n",
    "\n",
    "                    if parse(Bool,currNum[cInd]) # n(t+1) = n(t) + 1\n",
    "                        nNext[j - mdp.m] += 1;\n",
    "                        pNext *= (pn[s.v[j - mdp.m] + 1]);\n",
    "                    else # n(t+1) = n(t)\n",
    "                        pNext *= (1 - pn[s.v[j - mdp.m] + 1]); \n",
    "                    end\n",
    "                    \n",
    "                    cInd += 1;\n",
    "                end\n",
    "            end\n",
    "        end\n",
    "        \n",
    "        d.tD[embryoStateToString(EmbryoState(vNext,nNext,s.done,s.day+1))] = pNext;\n",
    "        \n",
    "    end\n",
    "    \n",
    "    return d;\n",
    "    \n",
    "end\n"
   ]
  },
  {
   "cell_type": "code",
   "execution_count": 9,
   "metadata": {
    "collapsed": false,
    "scrolled": true
   },
   "outputs": [
    {
     "data": {
      "text/plain": [
       "EmbryoState([1,0],[3,3],0,4)"
      ]
     },
     "metadata": {},
     "output_type": "display_data"
    },
    {
     "data": {
      "text/plain": [
       "EmbryoState([1,0],[4,3],0,4)"
      ]
     },
     "metadata": {},
     "output_type": "display_data"
    },
    {
     "data": {
      "text/plain": [
       "EmbryoState([0,0],[4,4],0,4)"
      ]
     },
     "metadata": {},
     "output_type": "display_data"
    },
    {
     "data": {
      "text/plain": [
       "Dict{ASCIIString,Float64} with 9 entries:\n",
       "  \"103404\" => 0.07399350000000002\n",
       "  \"004304\" => 0.06010649999999998\n",
       "  \"004404\" => 0.10234349999999998\n",
       "  \"104304\" => 0.2562435\n",
       "  \"103304\" => 0.04345650000000001\n",
       "  \"005504\" => 0.0\n",
       "  \"104404\" => 0.4363065\n",
       "  \"003304\" => 0.010193499999999998\n",
       "  \"003404\" => 0.017356499999999997"
      ]
     },
     "metadata": {},
     "output_type": "display_data"
    },
    {
     "data": {
      "text/plain": [
       "0.2562435"
      ]
     },
     "metadata": {},
     "output_type": "display_data"
    }
   ],
   "source": [
    "# test cell only\n",
    "mdp = EmbryoCulture(2, [1;0], [3;3], 3);\n",
    "d = create_transition_distribution(mdp);\n",
    "s = EmbryoState(mdp.vStart, mdp.nStart, 0, mdp.dayStart);\n",
    "a = EmbryoAction(\"B\", [1;0])\n",
    "\n",
    "d = transition(mdp,s,a,d);\n",
    "\n",
    "display(rand!(d,s))\n",
    "display(rand!(d,s))\n",
    "display(rand!(d,s))\n",
    "display(d.tD)\n",
    "display(pdf(d,EmbryoState([1;0],[4;3],0,4)))\n",
    "#display(d.tD[embryoStateToString(EmbryoState([0,0], [1,2], 0, 2))])\n"
   ]
  },
  {
   "cell_type": "code",
   "execution_count": 10,
   "metadata": {
    "collapsed": false
   },
   "outputs": [
    {
     "data": {
      "text/plain": [
       "reward (generic function with 6 methods)"
      ]
     },
     "execution_count": 10,
     "metadata": {},
     "output_type": "execute_result"
    }
   ],
   "source": [
    "# reward model\n",
    "# take day into account\n",
    "# output reward given state,action and culture day\n",
    "function POMDPs.reward(mdp::EmbryoCulture, s::EmbryoState, a::EmbryoAction)\n",
    "    \n",
    "    nDay = s.day;\n",
    "    \n",
    "    # if we are in a terminal state, no reward\n",
    "    if (nDay > 5) || (s.done == 1)\n",
    "        return 0;\n",
    "    # if we are transferring some of the embryos\n",
    "    elseif a.a == \"TR\"\n",
    "\n",
    "        nViable = sum(s.v .* a.tr);\n",
    "        ev = expectedViable(nViable, nDay);\n",
    "        \n",
    "        # big negative reward if no viable embryos transferred\n",
    "        # big positive reward if one viable embryo transferred\n",
    "        # diminishing positive rewards for >1 viable embryo transferred\n",
    "        if ev < 1\n",
    "            return -20; # transfer 0 viable embryos\n",
    "        else \n",
    "            return 28 - 8*floor(ev); # transfer >= 1 viable embryo\n",
    "        end\n",
    "    elseif a.a == \"D\"\n",
    "        \n",
    "        nViable = sum(s.v);\n",
    "        ev = expectedViable(nViable, nDay);\n",
    "        \n",
    "        # slight negative reward for discarding all (meaning no viable embryos available to transfer)\n",
    "        # big negative reward for discarding viable embryos\n",
    "        if ev < 1\n",
    "            return -5; # none viable, discard all\n",
    "        else \n",
    "            return -20; # discard >= 1 viable embryo\n",
    "        end\n",
    "    elseif a.a == \"B\"\n",
    "        \n",
    "        # if we're doing the biopsy at day 5, we would know for sure if an embryo is viable \n",
    "        if nDay == 5\n",
    "            nViable = sum(s.v);\n",
    "            if nViable == 0\n",
    "                return -5; # small negative reward for having to discard all\n",
    "            else\n",
    "                return 20; # assume transfer 1 viable embryo\n",
    "            end\n",
    "        else \n",
    "            return -2; # slight negative reward for doing test\n",
    "        end\n",
    "    elseif a.a == \"TL\"\n",
    "        return -2; # slight negative reward for doing test\n",
    "    else\n",
    "        # do nothing / continue culture\n",
    "        return -1; # slight negative reward for continuing culture\n",
    "    end\n",
    "end"
   ]
  },
  {
   "cell_type": "code",
   "execution_count": 74,
   "metadata": {
    "collapsed": false,
    "scrolled": true
   },
   "outputs": [
    {
     "name": "stdout",
     "output_type": "stream",
     "text": [
      "Iteration : 1, residual: 20.0, iteration run-time: 36.788593373, total run-time: 36.788593373\n",
      "Iteration : 2, residual: 0.0, iteration run-time: 41.270112356, total run-time: 78.058705729\n"
     ]
    }
   ],
   "source": [
    "# now ... test simple MDP implementation\n",
    "\n",
    "using DiscreteValueIteration\n",
    "mdp = EmbryoCulture(4, [1;1;1;1], [1;1;1;1], 1);\n",
    "\n",
    "solver = ValueIterationSolver(max_iterations=5, belres=1e-3)\n",
    "policy = ValueIterationPolicy(mdp) \n",
    "solve(solver, mdp, policy, verbose=true);\n",
    "\n"
   ]
  },
  {
   "cell_type": "code",
   "execution_count": 80,
   "metadata": {
    "collapsed": false
   },
   "outputs": [
    {
     "data": {
      "text/plain": [
       "EmbryoAction(\"TR\",[1,1,1,1])"
      ]
     },
     "execution_count": 80,
     "metadata": {},
     "output_type": "execute_result"
    }
   ],
   "source": [
    "s = EmbryoState([0;0;0;0],[1;1;1;1],0,1)\n",
    "a = action(mdp, policy, s)"
   ]
  },
  {
   "cell_type": "code",
   "execution_count": 51,
   "metadata": {
    "collapsed": false,
    "scrolled": true
   },
   "outputs": [
    {
     "data": {
      "text/plain": [
       "2-element Array{Int64,1}:\n",
       " 1\n",
       " 1"
      ]
     },
     "metadata": {},
     "output_type": "display_data"
    },
    {
     "ename": "LoadError",
     "evalue": "arrays could not be broadcast to a common size\nwhile loading In[51], in expression starting on line 2",
     "output_type": "error",
     "traceback": [
      "arrays could not be broadcast to a common size\nwhile loading In[51], in expression starting on line 2",
      "",
      " in broadcast_shape at broadcast.jl:40 (repeats 2 times)"
     ]
    }
   ],
   "source": [
    "display(s.v)\n",
    "display(reward(mdp,s,EmbryoAction(\"TR\",[1;0;0;0])))"
   ]
  },
  {
   "cell_type": "code",
   "execution_count": 73,
   "metadata": {
    "collapsed": false
   },
   "outputs": [
    {
     "data": {
      "text/plain": [
       "ValueIterationPolicy(50000x20 Array{Float64,2}:\n",
       " -1.0  -2.0  -2.0  -20.0  -20.0  -20.0  …  -20.0  -20.0  -20.0  -20.0  20.0\n",
       " -1.0  -2.0  -2.0  -20.0  -20.0  -20.0     -20.0  -20.0  -20.0  -20.0  20.0\n",
       " -1.0  -2.0  -2.0  -20.0  -20.0  -20.0     -20.0  -20.0  -20.0  -20.0  20.0\n",
       " -1.0  -2.0  -2.0  -20.0  -20.0  -20.0     -20.0  -20.0  -20.0  -20.0  20.0\n",
       " -1.0  -2.0  -2.0  -20.0  -20.0  -20.0     -20.0  -20.0  -20.0  -20.0  20.0\n",
       " -1.0  -2.0  -2.0  -20.0  -20.0  -20.0  …  -20.0  -20.0  -20.0  -20.0  20.0\n",
       " -1.0  -2.0  -2.0  -20.0  -20.0  -20.0     -20.0  -20.0  -20.0  -20.0  20.0\n",
       " -1.0  -2.0  -2.0  -20.0  -20.0  -20.0     -20.0  -20.0  -20.0  -20.0  20.0\n",
       " -1.0  -2.0  -2.0  -20.0  -20.0  -20.0     -20.0  -20.0  -20.0  -20.0  20.0\n",
       " -1.0  -2.0  -2.0  -20.0  -20.0  -20.0     -20.0  -20.0  -20.0  -20.0  20.0\n",
       " -1.0  -2.0  -2.0  -20.0  -20.0  -20.0  …  -20.0  -20.0  -20.0  -20.0  20.0\n",
       " -1.0  -2.0  -2.0  -20.0  -20.0  -20.0     -20.0  -20.0  -20.0  -20.0  20.0\n",
       " -1.0  -2.0  -2.0  -20.0  -20.0  -20.0     -20.0  -20.0  -20.0  -20.0  20.0\n",
       "  ⋮                                ⋮    ⋱    ⋮                             \n",
       "  0.0   0.0   0.0    0.0    0.0    0.0       0.0    0.0    0.0    0.0   0.0\n",
       "  0.0   0.0   0.0    0.0    0.0    0.0       0.0    0.0    0.0    0.0   0.0\n",
       "  0.0   0.0   0.0    0.0    0.0    0.0  …    0.0    0.0    0.0    0.0   0.0\n",
       "  0.0   0.0   0.0    0.0    0.0    0.0       0.0    0.0    0.0    0.0   0.0\n",
       "  0.0   0.0   0.0    0.0    0.0    0.0       0.0    0.0    0.0    0.0   0.0\n",
       "  0.0   0.0   0.0    0.0    0.0    0.0       0.0    0.0    0.0    0.0   0.0\n",
       "  0.0   0.0   0.0    0.0    0.0    0.0       0.0    0.0    0.0    0.0   0.0\n",
       "  0.0   0.0   0.0    0.0    0.0    0.0  …    0.0    0.0    0.0    0.0   0.0\n",
       "  0.0   0.0   0.0    0.0    0.0    0.0       0.0    0.0    0.0    0.0   0.0\n",
       "  0.0   0.0   0.0    0.0    0.0    0.0       0.0    0.0    0.0    0.0   0.0\n",
       "  0.0   0.0   0.0    0.0    0.0    0.0       0.0    0.0    0.0    0.0   0.0\n",
       "  0.0   0.0   0.0    0.0    0.0    0.0       0.0    0.0    0.0    0.0   0.0,[20.0,20.0,20.0,20.0,20.0,20.0,20.0,20.0,20.0,20.0  …  0.0,0.0,0.0,0.0,0.0,0.0,0.0,0.0,0.0,0.0],[20,20,20,20,20,20,20,20,20,20  …  0,0,0,0,0,0,0,0,0,0],Action[EmbryoAction(\"CC\",[]),EmbryoAction(\"TL\",[]),EmbryoAction(\"B\",[]),EmbryoAction(\"D\",[]),EmbryoAction(\"TR\",[0,0,0,0]),EmbryoAction(\"TR\",[0,0,0,1]),EmbryoAction(\"TR\",[0,0,1,0]),EmbryoAction(\"TR\",[0,0,1,1]),EmbryoAction(\"TR\",[0,1,0,0]),EmbryoAction(\"TR\",[0,1,0,1]),EmbryoAction(\"TR\",[0,1,1,0]),EmbryoAction(\"TR\",[0,1,1,1]),EmbryoAction(\"TR\",[1,0,0,0]),EmbryoAction(\"TR\",[1,0,0,1]),EmbryoAction(\"TR\",[1,0,1,0]),EmbryoAction(\"TR\",[1,0,1,1]),EmbryoAction(\"TR\",[1,1,0,0]),EmbryoAction(\"TR\",[1,1,0,1]),EmbryoAction(\"TR\",[1,1,1,0]),EmbryoAction(\"TR\",[1,1,1,1])],true)"
      ]
     },
     "metadata": {},
     "output_type": "display_data"
    }
   ],
   "source": [
    "display(policy)"
   ]
  },
  {
   "cell_type": "code",
   "execution_count": null,
   "metadata": {
    "collapsed": false
   },
   "outputs": [],
   "source": [
    "using SARSOP\n",
    "using POMDPModels\n",
    "\n",
    "policy = POMDPPolicy(\"tiger.policy\")\n",
    "pomdp = TigerPOMDP()"
   ]
  },
  {
   "cell_type": "code",
   "execution_count": null,
   "metadata": {
    "collapsed": false,
    "scrolled": false
   },
   "outputs": [],
   "source": [
    "#using POMDPXFile\n",
    "\n",
    "pomdpfile = POMDPFile(pomdp, \"tiger.pomdpx\")\n",
    "\n",
    "#pomdpx = POMDPX(\"tiger.pomdpx\")\n",
    "#write(pomdp, pomdpx)"
   ]
  },
  {
   "cell_type": "code",
   "execution_count": null,
   "metadata": {
    "collapsed": false
   },
   "outputs": [],
   "source": [
    "solver = SARSOPSolver()\n",
    "solve(solver, pomdpfile, policy)"
   ]
  },
  {
   "cell_type": "code",
   "execution_count": null,
   "metadata": {
    "collapsed": false
   },
   "outputs": [],
   "source": [
    "4^5\n"
   ]
  }
 ],
 "metadata": {
  "kernelspec": {
   "display_name": "Julia 0.3.11",
   "language": "julia",
   "name": "julia-0.3"
  },
  "language_info": {
   "file_extension": ".jl",
   "mimetype": "application/julia",
   "name": "julia",
   "version": "0.3.11"
  }
 },
 "nbformat": 4,
 "nbformat_minor": 0
}
