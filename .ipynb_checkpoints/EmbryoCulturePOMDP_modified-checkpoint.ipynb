{
 "cells": [
  {
   "cell_type": "code",
   "execution_count": 1,
   "metadata": {
    "collapsed": false
   },
   "outputs": [],
   "source": [
    "# first import the POMDPs.jl interface\n",
    "using POMDPs\n",
    "using POMDPDistributions\n",
    "using Distributions\n",
    "using SARSOP\n",
    "using POMDPModels\n",
    "using Iterators"
   ]
  },
  {
   "cell_type": "code",
   "execution_count": 2,
   "metadata": {
    "collapsed": false
   },
   "outputs": [
    {
     "data": {
      "text/plain": [
       "expectedViable (generic function with 1 method)"
      ]
     },
     "execution_count": 2,
     "metadata": {},
     "output_type": "execute_result"
    }
   ],
   "source": [
    "################ Functions and Structures definitions #######################\n",
    "\n",
    "# EmbryoState definition\n",
    "type EmbryoState <: State\n",
    "    v::Array{Int64,1} # viable or not? \n",
    "    n::Array{Int64,1} # developmental day achieved {1,2,3,4,5}\n",
    "    done::Int64; # done? (only if TR or D at last step or if day >= 6)\n",
    "    day::Int64; # culture day\n",
    "end\n",
    "\n",
    "# initialize day1 embryos with known viability\n",
    "EmbryoState(v::Array{Int64,1}) = EmbryoState(v,ones(Int64,v),0,1);\n",
    "EmbryoState(v::Array{Int64,1}, n::Array{Int64,1}) = EmbryoState(v,n,0,1);\n",
    "\n",
    "function ==(s1::EmbryoState, s2::EmbryoState)\n",
    "    return (s1.v == s2.v) && (s1.n == s2.n) && (s1.done == s2.done) && (s1.day == s2.day);\n",
    "end\n",
    "\n",
    "# convert EmbryoState to string for hashing purposes\n",
    "function embryoStateToString(es::EmbryoState)\n",
    "    sOut = \"\";\n",
    "    for i in 1:length(es.v)\n",
    "        sOut = string(sOut, es.v[i]);\n",
    "    end\n",
    "    for i in 1:length(es.n)\n",
    "        sOut = string(sOut, es.n[i]);\n",
    "    end\n",
    "    sOut = string(sOut, es.done);\n",
    "    sOut = string(sOut, es.day);\n",
    "    return sOut;\n",
    "end\n",
    "\n",
    "# convert string to EmbryoState for hashing purposes\n",
    "function stringToEmbryoState(s::ASCIIString)\n",
    "   \n",
    "    m = convert(Int64, length(s)/2) - 1;\n",
    "    v = zeros(Int64, m);\n",
    "    n = zeros(Int64, m);\n",
    "    \n",
    "    for i in 1:m\n",
    "        v[i] = parse(Int64,s[i]);\n",
    "    end\n",
    "    for i in 1:m\n",
    "        n[i] = parse(Int64,s[m+i]);\n",
    "    end\n",
    "    \n",
    "    done = parse(Int64, s[end-1]);\n",
    "    day = parse(Int64, s[end]);\n",
    "        \n",
    "    return EmbryoState(v,n,done,day);\n",
    "end\n",
    "\n",
    "# convert Array{string} to Array{EmbryoState} for hashing purposes\n",
    "function stringToEmbryoState(sa::Array{ASCIIString,1})\n",
    "   \n",
    "    nStates = length(sa);\n",
    "    ea = cell(nStates);\n",
    "    \n",
    "    for j in 1:nStates\n",
    "        s = sa[j];\n",
    "    \n",
    "        m = convert(Int64, length(s)/2) - 1;\n",
    "        v = zeros(Int64, m);\n",
    "        n = zeros(Int64, m);\n",
    "\n",
    "        for i in 1:m\n",
    "            v[i] = parse(Int64,s[i]);\n",
    "        end\n",
    "        for i in 1:m\n",
    "            n[i] = parse(Int64,s[m+i]);\n",
    "        end\n",
    "        d = parse(Int64, s[end]);\n",
    "        \n",
    "        done = parse(Int64, s[end-1]);\n",
    "        day = parse(Int64, s[end]);\n",
    "        \n",
    "        ea[j] = EmbryoState(v,n,done,day);\n",
    "    end\n",
    "    \n",
    "    return ea;\n",
    "end\n",
    "\n",
    "function Base.copy!(s1::EmbryoState, s2::EmbryoState)\n",
    "    s1.v = s2.v;\n",
    "    s1.n = s2.n;\n",
    "    s1.done = s2.done;\n",
    "    s1.day = s2.day;\n",
    "    s1\n",
    "end\n",
    "\n",
    "# EmbryoAction definition\n",
    "type EmbryoAction <: Action\n",
    "    a::String # {CC = continue culture, TL = measure time lapse params, B = biopsy (genetic testing)}\n",
    "    # if we're transferring, TR = transfer to patient}\n",
    "    tr::Array{Int64,1}; # vector of embryo nums to transfer (if a == TR)\n",
    "end\n",
    "\n",
    "# Define embryo culture POMDP scenario\n",
    "type EmbryoCulture <: POMDP\n",
    "    #rf::Function; # calculates reward based on input S,A\n",
    "    #tf::Function; #\n",
    "    m::Int64; # number of embryos starting in culture\n",
    "    vStart::Array{Int64,1}; # starting viability info\n",
    "    nStart::Array{Int64,1}; # starting cell #\n",
    "    dayStart::Int64;\n",
    "    discount::Float64; # = 1; # discount_factor\n",
    "    pv::Float64; # = 0.9; # probability that a viable embryo will continue to be viable\n",
    "    pn::Array{Float64,1}; # = [.7; .95]; # probability that a [nonviable, viable] embryo will have normal cell division\n",
    "end\n",
    "\n",
    "# culture will start at day 1 by default\n",
    "EmbryoCulture(m::Int64, vStart::Array{Int64,1}, \n",
    "    nStart::Array{Int64,1}) = EmbryoCulture(m,vStart,nStart,1,1,0.9,[0.7;0.95]);\n",
    "# could also start at a later day (with nStart <= dayStart)\n",
    "EmbryoCulture(m::Int64, vStart::Array{Int64,1}, nStart::Array{Int64,1}, \n",
    "    dayStart::Int64) = EmbryoCulture(m,vStart,nStart,dayStart,1,0.9,[0.7;0.95]);\n",
    "\n",
    "# given number of actual viable embryos and culture day #,\n",
    "# return expected # of viable embryos at the time of transfer\n",
    "# only about half of viable day 1 embryos will remain viable at day 4\n",
    "# TODO: adjust this function based on actual pv param\n",
    "function expectedViable(nViable::Int64, nDay::Int64)\n",
    "    return nViable * (2 ^ (-(5 - nDay)/4))\n",
    "end\n"
   ]
  },
  {
   "cell_type": "code",
   "execution_count": 3,
   "metadata": {
    "collapsed": false
   },
   "outputs": [
    {
     "data": {
      "text/plain": [
       "numRemainingStates (generic function with 1 method)"
      ]
     },
     "execution_count": 3,
     "metadata": {},
     "output_type": "execute_result"
    }
   ],
   "source": [
    "# state space functions and structures\n",
    "# define iterator over entire EmbryoState space\n",
    "type EmbryoStateIterator\n",
    "    m::Int64;\n",
    "    startState::EmbryoState;\n",
    "    minVals::Vector{Int64};\n",
    "    maxVals::Vector{Int64};\n",
    "end\n",
    "\n",
    "# can iterate over all states in embryo culture with m embryos\n",
    "EmbryoStateIterator(m::Int64) = EmbryoStateIterator(m,EmbryoState(ones(Int64,m),ones(Int64,m),0,1),\n",
    "                                            [zeros(Int64,m);ones(Int64,m)],[ones(Int64,m);5*ones(Int64,m)]);\n",
    "# can also iterate over possible next states\n",
    "EmbryoStateIterator(s::EmbryoState) = EmbryoStateIterator(length(s.v),s,[zeros(Int64,length(s.v));s.n],\n",
    "    [s.v;5*ones(Int64,length(s.v))]);\n",
    "\n",
    "function Base.start(e::EmbryoStateIterator)\n",
    "    return e.startState;\n",
    "end\n",
    "\n",
    "function Base.done(e::EmbryoStateIterator, state)\n",
    "    return state.day == 6;\n",
    "    #return (state.v[1] == -1);\n",
    "    #return (state.v == e.minVals[1:m]) && (state.n == e.maxVals[(m+1):(2*m)]);\n",
    "end\n",
    "\n",
    "function Base.next(e::EmbryoStateIterator, state)\n",
    "    iterVector = [state.day; state.v ; state.n];\n",
    "    m = e.m;\n",
    "    i = 2*m + 1 # 1 = day; 2:m+1 = v; m+2:2m+1 = n;\n",
    "    \n",
    "    # increment development days, decrement viability\n",
    "    while (i > (m+1)) && (iterVector[i] == e.maxVals[i-1])\n",
    "        iterVector[i] = e.minVals[i-1];\n",
    "        i -= 1;\n",
    "    end\n",
    "    \n",
    "    while (i < (m+2)) && (i > 1) && (iterVector[i] == e.minVals[i-1])\n",
    "        iterVector[i] = e.maxVals[i-1];\n",
    "        i -= 1;\n",
    "    end\n",
    "    \n",
    "    if i == 1\n",
    "        iterVector[1] += 1; # increment day\n",
    "    elseif i < (m + 2)\n",
    "        iterVector[i] -= 1;  \n",
    "    else\n",
    "        iterVector[i] += 1;\n",
    "    end\n",
    "    \n",
    "    return (state,EmbryoState(iterVector[2:(m+1)], iterVector[(m+2):(2*m+1)],state.done,iterVector[1]))\n",
    "end\n",
    "\n",
    "type EmbryoStateSpace <: AbstractSpace\n",
    "    # only variable is state iterator \n",
    "    states::EmbryoStateIterator; \n",
    "end\n",
    "\n",
    "# calculate number of possible remaining states\n",
    "function numRemainingStates(space::EmbryoStateSpace)\n",
    "    minVals = space.states.minVals;\n",
    "    maxVals = space.states.maxVals;\n",
    "    nums = maxVals - minVals + ones(maxVals);\n",
    "    \n",
    "    stateProd = 1;\n",
    "    for i in 1:length(nums)\n",
    "        stateProd *= nums[i];\n",
    "    end\n",
    "    \n",
    "    stateProd *= (6 - space.states.startState.day); # for culture days\n",
    "    return stateProd;\n",
    "end"
   ]
  },
  {
   "cell_type": "code",
   "execution_count": 4,
   "metadata": {
    "collapsed": false
   },
   "outputs": [
    {
     "data": {
      "text/plain": [
       "index (generic function with 6 methods)"
      ]
     },
     "execution_count": 4,
     "metadata": {},
     "output_type": "execute_result"
    }
   ],
   "source": [
    "# returns EmbryoStateSpace\n",
    "function POMDPs.states(mdp::EmbryoCulture)\n",
    "    return EmbryoStateSpace(EmbryoStateIterator(EmbryoState(mdp.vStart,mdp.nStart,0,mdp.dayStart)));\n",
    "end;\n",
    "\n",
    "# returns EmbryoStateIterator\n",
    "function POMDPs.domain(space::EmbryoStateSpace)\n",
    "    return space.states;\n",
    "end\n",
    "\n",
    "# define function to uniformly sample state space\n",
    "# max num states is 10^m\n",
    "function POMDPs.rand!(es::EmbryoState, space::EmbryoStateSpace)\n",
    "    maxNumStates = numRemainingStates(space); # 5*(10^(space.states.m));\n",
    "    randStateNum = convert(Int64,ceil(rand(1)*maxNumStates)[1]);\n",
    "    sp = start(takenth(space.states,randStateNum));\n",
    "    copy!(es, sp)\n",
    "    es\n",
    "end\n",
    "\n",
    "# for now, assume nStart <= dayStart\n",
    "function POMDPs.n_states(mdp::EmbryoCulture)\n",
    "    #n = 2^(sum(mdp.vStart));\n",
    "    \n",
    "    #for i in 1:length(mdp.nStart)\n",
    "    #    n *= (5 - mdp.dayStart + 1); # min(5-mdp.dayStart+1,5-mdp.nStart[i]+1); \n",
    "    #end\n",
    "    \n",
    "    #n*= (5 - mdp.dayStart + 1); # extra dim for day\n",
    "    n = 50^(mdp.m);\n",
    "    return n;\n",
    "end\n",
    "\n",
    "function POMDPs.n_actions(mdp::EmbryoCulture)\n",
    "    return 4 + 2^(mdp.m);\n",
    "end\n",
    "\n",
    "function POMDPs.discount(mdp::EmbryoCulture)\n",
    "    return mdp.discount; \n",
    "end\n",
    "\n",
    "# TODO: double check that this works ... \n",
    "function POMDPs.index(mdp::EmbryoCulture, s::EmbryoState)\n",
    "    dimSizes = [[mdp.vStart + 1];[5 - mdp.dayStart*ones(Int64, mdp.m) + 1];[5 - mdp.dayStart + 1]];\n",
    "    currInds = [[mdp.vStart - s.v + 1];[s.n - mdp.nStart + 1];[s.day - mdp.dayStart + 1]];\n",
    "    return sub2ind(dimSizes, currInds);\n",
    "end"
   ]
  },
  {
   "cell_type": "code",
   "execution_count": 5,
   "metadata": {
    "collapsed": false,
    "scrolled": true
   },
   "outputs": [
    {
     "data": {
      "text/plain": [
       "EmbryoState([0,0],[5,5],0,3)"
      ]
     },
     "metadata": {},
     "output_type": "display_data"
    },
    {
     "data": {
      "text/plain": [
       "EmbryoState([1,0],[4,4],0,1)"
      ]
     },
     "metadata": {},
     "output_type": "display_data"
    },
    {
     "data": {
      "text/plain": [
       "EmbryoState([1,0],[4,5],0,1)"
      ]
     },
     "metadata": {},
     "output_type": "display_data"
    },
    {
     "data": {
      "text/plain": [
       "EmbryoState([1,0],[5,4],0,1)"
      ]
     },
     "metadata": {},
     "output_type": "display_data"
    },
    {
     "data": {
      "text/plain": [
       "EmbryoState([1,0],[5,5],0,1)"
      ]
     },
     "metadata": {},
     "output_type": "display_data"
    },
    {
     "data": {
      "text/plain": [
       "EmbryoState([0,0],[4,4],0,1)"
      ]
     },
     "metadata": {},
     "output_type": "display_data"
    },
    {
     "data": {
      "text/plain": [
       "EmbryoState([0,0],[4,5],0,1)"
      ]
     },
     "metadata": {},
     "output_type": "display_data"
    },
    {
     "data": {
      "text/plain": [
       "EmbryoState([0,0],[5,4],0,1)"
      ]
     },
     "metadata": {},
     "output_type": "display_data"
    },
    {
     "data": {
      "text/plain": [
       "EmbryoState([0,0],[5,5],0,1)"
      ]
     },
     "metadata": {},
     "output_type": "display_data"
    },
    {
     "data": {
      "text/plain": [
       "EmbryoState([1,0],[4,4],0,2)"
      ]
     },
     "metadata": {},
     "output_type": "display_data"
    },
    {
     "data": {
      "text/plain": [
       "EmbryoState([1,0],[4,5],0,2)"
      ]
     },
     "metadata": {},
     "output_type": "display_data"
    },
    {
     "data": {
      "text/plain": [
       "EmbryoState([1,0],[5,4],0,2)"
      ]
     },
     "metadata": {},
     "output_type": "display_data"
    },
    {
     "data": {
      "text/plain": [
       "EmbryoState([1,0],[5,5],0,2)"
      ]
     },
     "metadata": {},
     "output_type": "display_data"
    },
    {
     "data": {
      "text/plain": [
       "EmbryoState([0,0],[4,4],0,2)"
      ]
     },
     "metadata": {},
     "output_type": "display_data"
    },
    {
     "data": {
      "text/plain": [
       "EmbryoState([0,0],[4,5],0,2)"
      ]
     },
     "metadata": {},
     "output_type": "display_data"
    },
    {
     "data": {
      "text/plain": [
       "EmbryoState([0,0],[5,4],0,2)"
      ]
     },
     "metadata": {},
     "output_type": "display_data"
    },
    {
     "data": {
      "text/plain": [
       "EmbryoState([0,0],[5,5],0,2)"
      ]
     },
     "metadata": {},
     "output_type": "display_data"
    },
    {
     "data": {
      "text/plain": [
       "EmbryoState([1,0],[4,4],0,3)"
      ]
     },
     "metadata": {},
     "output_type": "display_data"
    },
    {
     "data": {
      "text/plain": [
       "EmbryoState([1,0],[4,5],0,3)"
      ]
     },
     "metadata": {},
     "output_type": "display_data"
    },
    {
     "data": {
      "text/plain": [
       "EmbryoState([1,0],[5,4],0,3)"
      ]
     },
     "metadata": {},
     "output_type": "display_data"
    },
    {
     "data": {
      "text/plain": [
       "EmbryoState([1,0],[5,5],0,3)"
      ]
     },
     "metadata": {},
     "output_type": "display_data"
    },
    {
     "data": {
      "text/plain": [
       "EmbryoState([0,0],[4,4],0,3)"
      ]
     },
     "metadata": {},
     "output_type": "display_data"
    },
    {
     "data": {
      "text/plain": [
       "EmbryoState([0,0],[4,5],0,3)"
      ]
     },
     "metadata": {},
     "output_type": "display_data"
    },
    {
     "data": {
      "text/plain": [
       "EmbryoState([0,0],[5,4],0,3)"
      ]
     },
     "metadata": {},
     "output_type": "display_data"
    },
    {
     "data": {
      "text/plain": [
       "EmbryoState([0,0],[5,5],0,3)"
      ]
     },
     "metadata": {},
     "output_type": "display_data"
    },
    {
     "data": {
      "text/plain": [
       "EmbryoState([1,0],[4,4],0,4)"
      ]
     },
     "metadata": {},
     "output_type": "display_data"
    },
    {
     "data": {
      "text/plain": [
       "EmbryoState([1,0],[4,5],0,4)"
      ]
     },
     "metadata": {},
     "output_type": "display_data"
    },
    {
     "data": {
      "text/plain": [
       "EmbryoState([1,0],[5,4],0,4)"
      ]
     },
     "metadata": {},
     "output_type": "display_data"
    },
    {
     "data": {
      "text/plain": [
       "EmbryoState([1,0],[5,5],0,4)"
      ]
     },
     "metadata": {},
     "output_type": "display_data"
    },
    {
     "data": {
      "text/plain": [
       "EmbryoState([0,0],[4,4],0,4)"
      ]
     },
     "metadata": {},
     "output_type": "display_data"
    },
    {
     "data": {
      "text/plain": [
       "EmbryoState([0,0],[4,5],0,4)"
      ]
     },
     "metadata": {},
     "output_type": "display_data"
    },
    {
     "data": {
      "text/plain": [
       "EmbryoState([0,0],[5,4],0,4)"
      ]
     },
     "metadata": {},
     "output_type": "display_data"
    },
    {
     "data": {
      "text/plain": [
       "EmbryoState([0,0],[5,5],0,4)"
      ]
     },
     "metadata": {},
     "output_type": "display_data"
    },
    {
     "data": {
      "text/plain": [
       "EmbryoState([1,0],[4,4],0,5)"
      ]
     },
     "metadata": {},
     "output_type": "display_data"
    },
    {
     "data": {
      "text/plain": [
       "EmbryoState([1,0],[4,5],0,5)"
      ]
     },
     "metadata": {},
     "output_type": "display_data"
    },
    {
     "data": {
      "text/plain": [
       "EmbryoState([1,0],[5,4],0,5)"
      ]
     },
     "metadata": {},
     "output_type": "display_data"
    },
    {
     "data": {
      "text/plain": [
       "EmbryoState([1,0],[5,5],0,5)"
      ]
     },
     "metadata": {},
     "output_type": "display_data"
    },
    {
     "data": {
      "text/plain": [
       "EmbryoState([0,0],[4,4],0,5)"
      ]
     },
     "metadata": {},
     "output_type": "display_data"
    },
    {
     "data": {
      "text/plain": [
       "EmbryoState([0,0],[4,5],0,5)"
      ]
     },
     "metadata": {},
     "output_type": "display_data"
    },
    {
     "data": {
      "text/plain": [
       "EmbryoState([0,0],[5,4],0,5)"
      ]
     },
     "metadata": {},
     "output_type": "display_data"
    },
    {
     "data": {
      "text/plain": [
       "EmbryoState([0,0],[5,5],0,5)"
      ]
     },
     "metadata": {},
     "output_type": "display_data"
    },
    {
     "name": "stdout",
     "output_type": "stream",
     "text": [
      "elapsed time: 0.945549589 seconds\n"
     ]
    },
    {
     "data": {
      "text/plain": [
       "0.945549589"
      ]
     },
     "execution_count": 5,
     "metadata": {},
     "output_type": "execute_result"
    }
   ],
   "source": [
    "# test cell only\n",
    "tic()\n",
    "mdp = EmbryoCulture(2, [1;0], [4;4]);\n",
    "stateSpace = states(mdp)\n",
    "\n",
    "startingState = EmbryoState(mdp.vStart,mdp.nStart);\n",
    "randState = rand!(startingState, stateSpace)\n",
    "\n",
    "display(randState)\n",
    "\n",
    "i = 1;\n",
    "for es in domain(stateSpace)\n",
    "    i += 1;\n",
    "    display(es)\n",
    "    if i > 60\n",
    "        break;\n",
    "    end\n",
    "end\n",
    "toc()"
   ]
  },
  {
   "cell_type": "code",
   "execution_count": 6,
   "metadata": {
    "collapsed": false
   },
   "outputs": [
    {
     "data": {
      "text/plain": [
       "rand! (generic function with 27 methods)"
      ]
     },
     "execution_count": 6,
     "metadata": {},
     "output_type": "execute_result"
    }
   ],
   "source": [
    "# EmbryoActionSpace definitions and functions\n",
    "type EmbryoActionSpace <: AbstractSpace\n",
    "    actions::Array{EmbryoAction,1}\n",
    "end\n",
    "\n",
    "function POMDPs.actions(mdp::EmbryoCulture)\n",
    "    \n",
    "    acts = Array(EmbryoAction,(2^(mdp.m))+4);\n",
    "    acts[1] = EmbryoAction(\"CC\", []); # continue culture only\n",
    "    acts[2] = EmbryoAction(\"TL\", []); # collect cell cycle params\n",
    "    acts[3] = EmbryoAction(\"B\", []); # biopsy all\n",
    "    acts[4] = EmbryoAction(\"D\", []); # discard all\n",
    "    \n",
    "    for i in 1:(2^(mdp.m))\n",
    "        transferBits = bits(i-1)[end-mdp.m+1:end];\n",
    "        transferVector = Array(Bool,mdp.m);\n",
    "        \n",
    "        for j in 1:mdp.m\n",
    "            transferVector[j] = parse(Bool,transferBits[j]);\n",
    "        end\n",
    "        \n",
    "        acts[i+4] = EmbryoAction(\"TR\", transferVector);\n",
    "    end\n",
    "    \n",
    "    return EmbryoActionSpace(acts)\n",
    "end\n",
    "\n",
    "POMDPs.actions(mdp::EmbryoCulture, s::EmbryoState, as::EmbryoActionSpace=actions(mdp)) = as;\n",
    "\n",
    "function POMDPs.domain(space::EmbryoActionSpace)\n",
    "    return space.actions; \n",
    "end\n",
    "\n",
    "# equally likely to choose CC,TL,B,D,or TR\n",
    "function POMDPs.rand!(ea::EmbryoAction, space::EmbryoActionSpace)\n",
    "    #actionInd = rand(1:5);\n",
    "    #if actionInd < 5\n",
    "    #    ap = space.actions[actionInd];\n",
    "    #    ea.a = ap.a;\n",
    "    #    ea.tr = ap.tr;\n",
    "    #    return ea;\n",
    "    #else\n",
    "        ap = space.actions[rand(1:((2^(mdp.m))+4))];\n",
    "        ea.a = ap.a;\n",
    "        ea.tr = ap.tr;\n",
    "        ea \n",
    "    #end\n",
    "end\n"
   ]
  },
  {
   "cell_type": "code",
   "execution_count": 7,
   "metadata": {
    "collapsed": false
   },
   "outputs": [
    {
     "data": {
      "text/plain": [
       "rand! (generic function with 28 methods)"
      ]
     },
     "execution_count": 7,
     "metadata": {},
     "output_type": "execute_result"
    }
   ],
   "source": [
    "# transition distribution stuff\n",
    "# define transition distribution\n",
    "type EmbryoTransitionDistribution <: AbstractDistribution\n",
    "    tD::Dict{ASCIIString, Float64}; # s' ==> p(s')\n",
    "end\n",
    "\n",
    "# initialize transition distribution (for preallocation only)\n",
    "function POMDPs.create_transition_distribution(mdp::EmbryoCulture)\n",
    "    # initialize dict with neighbors => probabilities \n",
    "    # init with only min v, max n to begin with\n",
    "    # possibly define iterator if space becomes too large\n",
    "    \n",
    "    tD = Dict{ASCIIString, Float64}(); # transition distribution\n",
    "    #tD = [embryoStateToString(EmbryoState(zeros(Int64, mdp.m), \n",
    "    #    5*ones(Int64, mdp.m))) => 1.0];\n",
    "    \n",
    "    return EmbryoTransitionDistribution(tD);\n",
    "end\n",
    "\n",
    "# get all possible next states\n",
    "function POMDPs.domain(d::EmbryoTransitionDistribution)\n",
    "    return stringToEmbryoState(collect(keys(d.tD))); \n",
    "end\n",
    "\n",
    "# get p(s')\n",
    "function POMDPs.pdf(d::EmbryoTransitionDistribution, s::EmbryoState)\n",
    "    sk = embryoStateToString(s);\n",
    "    if haskey(d.tD, sk)\n",
    "        return d.tD[sk];\n",
    "    else\n",
    "        return 0.0;\n",
    "    end\n",
    "end\n",
    "\n",
    "# randomly sample next state according to transition probs\n",
    "function POMDPs.rand!(d::EmbryoTransitionDistribution, s::EmbryoState)\n",
    "    keyArray = collect(keys(d.tD));\n",
    "    pArray = collect(values(d.tD));\n",
    "    \n",
    "    cat = Categorical(pArray);\n",
    "    randState = stringToEmbryoState(keyArray[rand(cat)]);\n",
    "    copy!(s, randState);\n",
    "    return s;\n",
    "end\n",
    "\n"
   ]
  },
  {
   "cell_type": "code",
   "execution_count": 8,
   "metadata": {
    "collapsed": false
   },
   "outputs": [
    {
     "data": {
      "text/plain": [
       "transition (generic function with 9 methods)"
      ]
     },
     "execution_count": 8,
     "metadata": {},
     "output_type": "execute_result"
    }
   ],
   "source": [
    "# transition model\n",
    "function POMDPs.transition(mdp::EmbryoCulture, s::EmbryoState, a::EmbryoAction,\n",
    "    d::EmbryoTransitionDistribution=create_transition_distribution(mdp))\n",
    "\n",
    "    # if we're already \"done\" or if action leads to terminal state\n",
    "    # (action = TR or D or B, day = 5) then can't change state\n",
    "    if (s.day > 4) || (s.done > 0) || (a.a == \"TR\") || (a.a == \"D\") || (a.a == \"B\")\n",
    "        # can not transition out of done state\n",
    "        d.tD = [embryoStateToString(EmbryoState(s.v, s.n, 1, s.day)) => 1.0];\n",
    "        return d;\n",
    "    end\n",
    "    \n",
    "    pv = mdp.pv; # p(v(t+1) = 1 | v(t) = 1)\n",
    "    pn = mdp.pn; # p(n(t+1) = n(t) + 1) for [nonviable, viable] embryo \n",
    "\n",
    "    # calc number of possible next states (<= 4^m)\n",
    "    nChange = sum(s.v .> 0) + sum(s.n .< 5);\n",
    "    numNeighbors = 2^nChange;\n",
    "    indChange = [s.v .> 0; s.n .< 5];\n",
    "\n",
    "    # re-init dictionary w/ s' => p(s')\n",
    "    d.tD = Dict{ASCIIString, Float64}();\n",
    "    \n",
    "    for i in 1:numNeighbors\n",
    "\n",
    "        vNext = deepcopy(s.v);\n",
    "        nNext = deepcopy(s.n);\n",
    "        pNext = 1;\n",
    "        \n",
    "        # which indices to change in indChange (length is nChange)\n",
    "        currNum = bits(i-1)[end-nChange+1:end];\n",
    "        cInd = 1;\n",
    "        \n",
    "        for j in 1:(2*mdp.m)\n",
    "            if (j < (mdp.m + 1))\n",
    "                \n",
    "                if indChange[j] # if we can change the current value\n",
    "\n",
    "                    if parse(Bool,currNum[cInd]) # v(t) = 1 -> v(t+1) = 0\n",
    "                        vNext[j] -= 1; # decrement viability of embryo j\n",
    "                        pNext *= (1-pv); # p(viable -> nonviable)\n",
    "                    else # v(t) = 1 -> v(t+1) = 1\n",
    "                        pNext *= pv; # p(viable -> viable)\n",
    "                    end\n",
    "                    \n",
    "                    cInd += 1;\n",
    "                end\n",
    "            elseif (j > mdp.m)\n",
    "\n",
    "                if indChange[j] # if we can change current value\n",
    "\n",
    "                    if parse(Bool,currNum[cInd]) # n(t+1) = n(t) + 1\n",
    "                        nNext[j - mdp.m] += 1;\n",
    "                        pNext *= (pn[s.v[j - mdp.m] + 1]);\n",
    "                    else # n(t+1) = n(t)\n",
    "                        pNext *= (1 - pn[s.v[j - mdp.m] + 1]); \n",
    "                    end\n",
    "                    \n",
    "                    cInd += 1;\n",
    "                end\n",
    "            end\n",
    "        end\n",
    "        \n",
    "        d.tD[embryoStateToString(EmbryoState(vNext,nNext,s.done,s.day+1))] = pNext;\n",
    "        \n",
    "    end\n",
    "    \n",
    "    return d;\n",
    "    \n",
    "end\n"
   ]
  },
  {
   "cell_type": "code",
   "execution_count": 9,
   "metadata": {
    "collapsed": false
   },
   "outputs": [
    {
     "data": {
      "text/plain": [
       "reward (generic function with 6 methods)"
      ]
     },
     "execution_count": 9,
     "metadata": {},
     "output_type": "execute_result"
    }
   ],
   "source": [
    "# reward model\n",
    "# take day into account\n",
    "# output reward given state,action and culture day\n",
    "# (must transfer,discard,or biopsy at that point)\n",
    "function POMDPs.reward(mdp::EmbryoCulture, s::EmbryoState, a::EmbryoAction)\n",
    "    \n",
    "    nDay = s.day;\n",
    "    \n",
    "    # if we are in a terminal state, no reward\n",
    "    if (s.done == 1)\n",
    "        return 0;\n",
    "    # if we are transferring some of the embryos\n",
    "    elseif a.a == \"TR\"\n",
    "\n",
    "        nViable = sum(s.v .* a.tr);\n",
    "        ev = expectedViable(nViable, nDay);\n",
    "        \n",
    "        # big negative reward if no viable embryos transferred\n",
    "        # big positive reward if one viable embryo transferred\n",
    "        # diminishing positive rewards for >1 viable embryo transferred\n",
    "        if ev < 1\n",
    "            return -20; # transfer 0 viable embryos\n",
    "        else \n",
    "            return 56 - 16*floor(ev); # transfer >= 1 viable embryo\n",
    "        end\n",
    "    elseif a.a == \"D\"\n",
    "        \n",
    "        nViable = sum(s.v);\n",
    "        ev = expectedViable(nViable, nDay);\n",
    "        \n",
    "        # slight negative reward for discarding all (meaning no viable embryos available to transfer)\n",
    "        # big negative reward for discarding viable embryos\n",
    "        if ev < 1\n",
    "            return -2; # none viable, discard all\n",
    "        else \n",
    "            return -20; # discard >= 1 viable embryo\n",
    "        end\n",
    "    elseif a.a == \"B\"\n",
    "        \n",
    "        return -40;\n",
    "        if nDay < 5\n",
    "            return -40;\n",
    "        end\n",
    "        \n",
    "        nViable = sum(s.v);\n",
    "        ev = expectedViable(nViable, nDay);\n",
    "        \n",
    "        if ev < 1\n",
    "            return -5;\n",
    "        else\n",
    "            return 40;\n",
    "        end\n",
    "    elseif a.a == \"TL\"\n",
    "        if nDay > 3\n",
    "            return -40;\n",
    "        else\n",
    "            return -2; # slight negative reward for doing test\n",
    "        end\n",
    "    else\n",
    "        # do nothing / continue culture\n",
    "        if nDay > 4\n",
    "            return -40;\n",
    "        else\n",
    "            return -1; # slight negative reward for continuing culture\n",
    "        end\n",
    "    end\n",
    "end"
   ]
  },
  {
   "cell_type": "code",
   "execution_count": 10,
   "metadata": {
    "collapsed": true
   },
   "outputs": [],
   "source": [
    "# observation definitions\n",
    "type EmbryoObservation <: Observation\n",
    "    oN::Array{Int64,1}; # developmental stage reached\n",
    "    oD::Int64; # day in culture\n",
    "end\n",
    "\n",
    "function Base.copy!(o1::EmbryoObservation, o2::EmbryoObservation)\n",
    "    o1.oN = o2.oN;\n",
    "    o1.oD = o2.oD;\n",
    "    return o1;\n",
    "end\n",
    "\n",
    "# convert EmbryoState to string for hashing purposes\n",
    "function embryoObsToString(obs::EmbryoObservation)\n",
    "    sOut = \"\";\n",
    "    for i in 1:length(obs.oN)\n",
    "        sOut = string(sOut, obs.oN[i]);\n",
    "    end\n",
    "    sOut = string(sOut, obs.oD);\n",
    "    return sOut;\n",
    "end\n",
    "\n",
    "# convert string to EmbryoState for hashing purposes\n",
    "function stringToEmbryoObs(s::ASCIIString)\n",
    "   \n",
    "    m = convert(Int64, length(s)) - 1;\n",
    "    n = zeros(Int64, m);\n",
    "    \n",
    "    for i in 1:m\n",
    "        n[i] = parse(Int64,s[i]);\n",
    "    end\n",
    "    day = parse(Int64, s[end]);\n",
    "        \n",
    "    return EmbryoObservation(n,day);\n",
    "end\n",
    "\n",
    "# convert Array{string} to Array{EmbryoState} for hashing purposes\n",
    "function stringToEmbryoObs(oa::Array{ASCIIString,1})\n",
    "   \n",
    "    nStates = length(oa);\n",
    "    oOut = cell(nStates);\n",
    "    \n",
    "    for j in 1:nStates\n",
    "        s = oa[j];\n",
    "    \n",
    "        m = convert(Int64, length(s)) - 1;\n",
    "        n = zeros(Int64, m);\n",
    "\n",
    "        for i in 1:m\n",
    "            n[i] = parse(Int64,s[i]);\n",
    "        end\n",
    "\n",
    "        day = parse(Int64, s[end]);\n",
    "        oOut[j] = EmbryoObservation(n,day);\n",
    "    end\n",
    "    \n",
    "    return oOut;\n",
    "end\n",
    "\n",
    "\n",
    "type EmbryoObservationIterator\n",
    "    m::Int64;\n",
    "    startDay::Int64;\n",
    "    minVals::Vector{Int64};\n",
    "    maxVals::Vector{Int64};\n",
    "end\n",
    "\n",
    "# iterate over all possible observations for state\n",
    "EmbryoObservationIterator(mdp::EmbryoCulture) = EmbryoObservationIterator(mdp.m,\n",
    "    mdp.dayStart, ones(Int64,mdp.m), 5*ones(Int64,mdp.m));\n",
    "EmbryoObservationIterator(s::EmbryoState) = EmbryoObservationIterator(length(s.n), s.day,\n",
    "    ones(Int64,length(s.n)), 5*ones(Int64,length(s.n)));\n",
    "\n",
    "function Base.start(e::EmbryoObservationIterator)\n",
    "    return EmbryoObservation(ones(Int64,e.m), e.startDay);\n",
    "end\n",
    "\n",
    "function Base.done(e::EmbryoObservationIterator, obs)\n",
    "    return obs.oD == 6;\n",
    "end\n",
    "\n",
    "function Base.next(e::EmbryoObservationIterator, obs)\n",
    "    iterVector = [obs.oD; obs.oN];\n",
    "    m = e.m;\n",
    "    i = m + 1; # 1 = day; 2:m+1 = n;\n",
    "    \n",
    "    # increment development obs\n",
    "    while (i > 1) && (iterVector[i] == e.maxVals[i-1])\n",
    "        iterVector[i] = e.minVals[i-1];\n",
    "        i -= 1;\n",
    "    end\n",
    "    \n",
    "    iterVector[i] += 1;\n",
    "    \n",
    "    return (obs,EmbryoObservation(iterVector[2:(m+1)], iterVector[1]))\n",
    "end\n",
    "\n",
    "type EmbryoObservationSpace <: AbstractSpace\n",
    "    obs::EmbryoObservationIterator;\n",
    "end\n",
    "\n",
    "# function returning observation space\n",
    "function POMDPs.observations(mdp::EmbryoCulture)\n",
    "    return EmbryoObservationSpace(EmbryoObservationIterator(mdp));\n",
    "end\n",
    "    \n",
    "POMDPs.observations(mdp::EmbryoCulture, s::EmbryoState, obs::EmbryoObservationSpace) = obs;\n",
    "POMDPs.domain(space::EmbryoObservationSpace) = space.obs;"
   ]
  },
  {
   "cell_type": "code",
   "execution_count": 11,
   "metadata": {
    "collapsed": false
   },
   "outputs": [
    {
     "data": {
      "text/plain": [
       "n_observations (generic function with 4 methods)"
      ]
     },
     "execution_count": 11,
     "metadata": {},
     "output_type": "execute_result"
    }
   ],
   "source": [
    "# define observation distribution\n",
    "type EmbryoObservationDistribution <: AbstractDistribution\n",
    "    obsD::Dict{ASCIIString, Float64}; # s' ==> p(s')\n",
    "end\n",
    "\n",
    "# initialize observation distribution\n",
    "function POMDPs.create_observation_distribution(mdp::EmbryoCulture)\n",
    "    # initialize dict with neighbors => probabilities \n",
    "    return EmbryoObservationDistribution(Dict{ASCIIString, Float64}());\n",
    "end\n",
    "\n",
    "# get all possible next obs\n",
    "function POMDPs.domain(d::EmbryoObservationDistribution)\n",
    "    return stringToEmbryoObs(collect(keys(d.obsD))); \n",
    "end\n",
    "\n",
    "# get p(s')\n",
    "function POMDPs.pdf(d::EmbryoObservationDistribution, o::EmbryoObservation)\n",
    "    ok = embryoObsToString(o);\n",
    "    if haskey(d.obsD, ok)\n",
    "        return d.obsD[ok];\n",
    "    else\n",
    "        return 0.0;\n",
    "    end\n",
    "end\n",
    "\n",
    "# randomly sample next state according to transition probs\n",
    "function POMDPs.rand!(d::EmbryoObservationDistribution, o::EmbryoObservation)\n",
    "    keyArray = collect(keys(d.obsD));\n",
    "    pArray = collect(values(d.obsD));\n",
    "    \n",
    "    cat = Categorical(pArray);\n",
    "    randObs = stringToEmbryoObs(keyArray[rand(cat)]);\n",
    "    copy!(o, randObs);\n",
    "    return o;\n",
    "end\n",
    "\n",
    "# observation model\n",
    "function POMDPs.observation(mdp::EmbryoCulture, s::EmbryoState, a::EmbryoAction, \n",
    "    d::EmbryoObservationDistribution=create_observation_distribution(mdp))\n",
    "    \n",
    "    # for now, observation is simply EXACTLY s.n and s.day\n",
    "    d.obsD = [embryoObsToString(EmbryoObservation(s.n, s.day)) => 1.0];\n",
    "    return d;\n",
    "end\n",
    "\n",
    "function POMDPs.n_observations(mdp::EmbryoCulture)\n",
    "    n = 1;\n",
    "    \n",
    "    for i in 1:length(mdp.nStart)\n",
    "        n *= 5; #(5 - mdp.dayStart + 1);  \n",
    "    end\n",
    "    \n",
    "    n*= (5 - mdp.dayStart + 1); # extra dim for day\n",
    "    return n;\n",
    "end"
   ]
  },
  {
   "cell_type": "code",
   "execution_count": 12,
   "metadata": {
    "collapsed": true
   },
   "outputs": [],
   "source": [
    "# finally ... belief stuff\n",
    "using POMDPToolbox\n",
    "\n",
    "POMDPs.create_belief(mdp::EmbryoCulture) = DiscreteBelief(n_states(EmbryoCulture(mdp.m,ones(mdp.vStart), mdp.nStart, mdp.dayStart)));\n",
    "POMDPs.initial_belief(mdp::EmbryoCulture) = DiscreteBelief(n_states(EmbryoCulture(mdp.m,ones(mdp.vStart),mdp.nStart,mdp.dayStart)));\n"
   ]
  },
  {
   "cell_type": "code",
   "execution_count": 13,
   "metadata": {
    "collapsed": false,
    "scrolled": false
   },
   "outputs": [
    {
     "name": "stdout",
     "output_type": "stream",
     "text": [
      "Iteration : 1, residual: 40.0, iteration run-time: 35.053637607, total run-time: 35.053637607\n",
      "Iteration : 2, residual: 35.80000000000001, iteration run-time: 35.875828792, total run-time: 70.929466399\n",
      "Iteration : 3, residual: 32.120000000000005, iteration run-time: 36.508056991, total run-time: 107.43752339\n",
      "Iteration : 4, residual: 27.90800000000001, iteration run-time: 37.524894955, total run-time: 144.962418345\n",
      "Iteration : 5, residual: 24.117200000000008, iteration run-time: 38.308252316, total run-time: 183.270670661\n",
      "Iteration : 6, residual: 0.0, iteration run-time: 35.737039733, total run-time: 219.00771039400001\n"
     ]
    },
    {
     "data": {
      "text/plain": [
       "QMDPPolicy(2500x8 Array{Float64,2}:\n",
       " 36.0434  35.0434  -40.0  -20.0  -20.0  -20.0  -20.0  40.0\n",
       " 36.0434  35.0434  -40.0  -20.0  -20.0  -20.0  -20.0  40.0\n",
       " 36.0434  35.0434  -40.0  -20.0  -20.0  -20.0  -20.0  40.0\n",
       " 36.0434  35.0434  -40.0  -20.0  -20.0  -20.0  -20.0  40.0\n",
       " 36.0434  35.0434  -40.0  -20.0  -20.0  -20.0  -20.0  40.0\n",
       " 36.0434  35.0434  -40.0  -20.0  -20.0  -20.0  -20.0  40.0\n",
       " 36.0434  35.0434  -40.0  -20.0  -20.0  -20.0  -20.0  40.0\n",
       " 36.0434  35.0434  -40.0  -20.0  -20.0  -20.0  -20.0  40.0\n",
       " 36.0434  35.0434  -40.0  -20.0  -20.0  -20.0  -20.0  40.0\n",
       " 36.0434  35.0434  -40.0  -20.0  -20.0  -20.0  -20.0  40.0\n",
       " 36.0434  35.0434  -40.0  -20.0  -20.0  -20.0  -20.0  40.0\n",
       " 36.0434  35.0434  -40.0  -20.0  -20.0  -20.0  -20.0  40.0\n",
       " 36.0434  35.0434  -40.0  -20.0  -20.0  -20.0  -20.0  40.0\n",
       "  ⋮                                       ⋮               \n",
       "  0.0      0.0       0.0    0.0    0.0    0.0    0.0   0.0\n",
       "  0.0      0.0       0.0    0.0    0.0    0.0    0.0   0.0\n",
       "  0.0      0.0       0.0    0.0    0.0    0.0    0.0   0.0\n",
       "  0.0      0.0       0.0    0.0    0.0    0.0    0.0   0.0\n",
       "  0.0      0.0       0.0    0.0    0.0    0.0    0.0   0.0\n",
       "  0.0      0.0       0.0    0.0    0.0    0.0    0.0   0.0\n",
       "  0.0      0.0       0.0    0.0    0.0    0.0    0.0   0.0\n",
       "  0.0      0.0       0.0    0.0    0.0    0.0    0.0   0.0\n",
       "  0.0      0.0       0.0    0.0    0.0    0.0    0.0   0.0\n",
       "  0.0      0.0       0.0    0.0    0.0    0.0    0.0   0.0\n",
       "  0.0      0.0       0.0    0.0    0.0    0.0    0.0   0.0\n",
       "  0.0      0.0       0.0    0.0    0.0    0.0    0.0   0.0,Action[EmbryoAction(\"CC\",[]),EmbryoAction(\"TL\",[]),EmbryoAction(\"B\",[]),EmbryoAction(\"D\",[]),EmbryoAction(\"TR\",[0,0]),EmbryoAction(\"TR\",[0,1]),EmbryoAction(\"TR\",[1,0]),EmbryoAction(\"TR\",[1,1])])"
      ]
     },
     "execution_count": 13,
     "metadata": {},
     "output_type": "execute_result"
    }
   ],
   "source": [
    "using QMDP\n",
    "\n",
    "# initialize the solver\n",
    "# key-word args are the maximum number of iterations the solver will run for, and the Bellman tolerance\n",
    "solver = QMDPSolver(max_iterations=10, tolerance=1) \n",
    "mdp = EmbryoCulture(2, [1;1], [1;1], 1);\n",
    "\n",
    "# initialize the QMDP policy\n",
    "qmdp_policy = create_policy(solver, mdp)\n",
    "\n",
    "# run the solver\n",
    "solve(solver, mdp, qmdp_policy, verbose=true)"
   ]
  },
  {
   "cell_type": "code",
   "execution_count": null,
   "metadata": {
    "collapsed": false,
    "scrolled": true
   },
   "outputs": [],
   "source": [
    "# simulate actions based on policy\n",
    "\n",
    "vInit = [1;0];\n",
    "nInit = [1;1];\n",
    "#pomdp = EmbryoCulture(length(vInit), vInit, nInit, 1);\n",
    "\n",
    "# start with two viable embryos at day 1\n",
    "s = EmbryoState(vInit, nInit, 0, 1);\n",
    "o = EmbryoObservation(nInit, 1);\n",
    "b = initial_belief(mdp)\n",
    "updater = DiscreteUpdater(mdp) # this comes from POMDPToolbox\n",
    "\n",
    "rtot = 0.0\n",
    "# run the simulation for 5 days max\n",
    "for i = 1:5\n",
    "    # get the action from our SARSOP policy\n",
    "    a = action(qmdp_policy, b) # the QMDP action function returns the POMDP action not its index like the SARSOP action function\n",
    "    # compute the reward\n",
    "    r = reward(mdp, s, a)\n",
    "    rtot += r\n",
    "    \n",
    "    println(\"Time step $i\")\n",
    "    println(\"Taking action: $(a), got reward: $(r)\")\n",
    "    \n",
    "    # transition the system state\n",
    "    trans_dist = transition(mdp, s, a)\n",
    "    rand!(trans_dist, s)\n",
    "\n",
    "    # sample a new observation\n",
    "    obs_dist = observation(mdp, s, a)\n",
    "    rand!(obs_dist, o)\n",
    "    \n",
    "    # update the belief\n",
    "    b = update(updater, b, a, o)\n",
    "    \n",
    "    println(\"Saw observation: $(o)\\n\")\n",
    "\n",
    "end\n",
    "println(\"Total reward: $rtot\")\n"
   ]
  },
  {
   "cell_type": "code",
   "execution_count": null,
   "metadata": {
    "collapsed": false
   },
   "outputs": [],
   "source": [
    "# try SARSOP ...\n",
    "using SARSOP\n",
    "\n",
    "mdp = EmbryoCulture(1, [1], [1], 1);\n",
    "policy = POMDPPolicy(\"embryo.policy\")\n",
    "\n",
    "# create the .pomdpx file, this is the format which the SARSOP backend reads in\n",
    "pomdpfile = POMDPFile(mdp, \"embryo.pomdpx\") # must end in .pomdpx\n"
   ]
  },
  {
   "cell_type": "code",
   "execution_count": null,
   "metadata": {
    "collapsed": false
   },
   "outputs": [],
   "source": [
    "# initialize the solver\n",
    "solver = SARSOPSolver()\n",
    "# run the solve function\n",
    "solve(solver, pomdpfile, policy)"
   ]
  },
  {
   "cell_type": "code",
   "execution_count": null,
   "metadata": {
    "collapsed": false,
    "scrolled": false
   },
   "outputs": [],
   "source": []
  },
  {
   "cell_type": "code",
   "execution_count": null,
   "metadata": {
    "collapsed": false
   },
   "outputs": [],
   "source": []
  },
  {
   "cell_type": "code",
   "execution_count": null,
   "metadata": {
    "collapsed": false
   },
   "outputs": [],
   "source": []
  }
 ],
 "metadata": {
  "kernelspec": {
   "display_name": "Julia 0.3.11",
   "language": "julia",
   "name": "julia-0.3"
  },
  "language_info": {
   "file_extension": ".jl",
   "mimetype": "application/julia",
   "name": "julia",
   "version": "0.3.11"
  }
 },
 "nbformat": 4,
 "nbformat_minor": 0
}
