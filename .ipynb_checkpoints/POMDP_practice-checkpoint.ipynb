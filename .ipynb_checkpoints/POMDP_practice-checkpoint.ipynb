{
 "cells": [
  {
   "cell_type": "code",
   "execution_count": 37,
   "metadata": {
    "collapsed": true
   },
   "outputs": [],
   "source": [
    "# first import the POMDPs.jl interface\n",
    "using POMDPs\n",
    "# we also use a helper module to work with probability distributions\n",
    "using POMDPDistributions\n",
    "using SARSOP\n",
    "using MCTS\n",
    "using POMDPModels\n",
    "using DiscreteValueIteration"
   ]
  },
  {
   "cell_type": "code",
   "execution_count": 38,
   "metadata": {
    "collapsed": false
   },
   "outputs": [],
   "source": [
    "type GridWorldState <: State\n",
    "    x::Int64 # x position\n",
    "    y::Int64 # y position\n",
    "    bumped::Bool # did we bump the wall?\n",
    "    done::Bool # are we in a terminal state?\n",
    "end\n",
    "\n",
    "# E: make my own type for embryo model\n",
    "type EmbryoState <: State\n",
    "    v::Bool # viable or not? \n",
    "    arrested::Bool # has embryo arrested yet?\n",
    "    # developmental state achieved {1,2,3,4,5,6,7,8,16,32,64}\n",
    "    nCells::Int64 \n",
    "end"
   ]
  },
  {
   "cell_type": "code",
   "execution_count": 39,
   "metadata": {
    "collapsed": false
   },
   "outputs": [
    {
     "data": {
      "text/plain": [
       "EmbryoState (constructor with 3 methods)"
      ]
     },
     "execution_count": 39,
     "metadata": {},
     "output_type": "execute_result"
    }
   ],
   "source": [
    "# initial state constructor\n",
    "GridWorldState(x::Int64, y::Int64) = GridWorldState(x,y,false,false)\n",
    "# checks if the position of two states are the same\n",
    "posequal(s1::GridWorldState, s2::GridWorldState) = s1.x == s2.x && s1.y == s2.y\n",
    "# copies state s2 to s2\n",
    "function Base.copy!(s1::GridWorldState, s2::GridWorldState) \n",
    "    s1.x = s2.x\n",
    "    s1.y = s2.y\n",
    "    s1.bumped = s2.bumped\n",
    "    s1.done = s2.done\n",
    "    s1\n",
    "end\n",
    "\n",
    "==(s1::GridWorldState,s2::GridWorldState) = s1.x == s2.x && s1.y == s2.y && s1.bumped == s2.bumped && s1.done == s2.done;\n",
    "\n",
    "\n",
    "# E: embryo state constructor and other helper functions\n",
    "# initialize day1 embryo with known viability\n",
    "# viable embryos have 10% chance of arrest at each time step\n",
    "# nonviable embryos have 20% chance of arrest\n",
    "EmbryoState(v::Bool) = EmbryoState(v,false,.2 - .1*v,1)\n",
    "\n",
    "# add more helper functions as necessary"
   ]
  },
  {
   "cell_type": "code",
   "execution_count": 40,
   "metadata": {
    "collapsed": false
   },
   "outputs": [
    {
     "data": {
      "text/plain": [
       "hash (generic function with 55 methods)"
      ]
     },
     "execution_count": 40,
     "metadata": {},
     "output_type": "execute_result"
    }
   ],
   "source": [
    "# if you want to use Monte Carlo Tree Search, you will need to define the functions below\n",
    "function Base.hash(s::GridWorldState, h::Uint64 = zero(Uint64)) \n",
    "    hash(s.x, hash(s.y, hash(s.bumped, hash(s.done, h))))\n",
    "end\n",
    "\n"
   ]
  },
  {
   "cell_type": "code",
   "execution_count": 41,
   "metadata": {
    "collapsed": false
   },
   "outputs": [],
   "source": [
    "type GridWorldAction <: Action\n",
    "    direction::Symbol\n",
    "end\n",
    "\n",
    "# E: actions to take with embryo culture\n",
    "type EmbryoAction <: Action\n",
    "    action::String # {CC = continue culture, TL = measure time lapse params, B = biopsy (genetic testing)}\n",
    "    # if we're transferring, TR = transfer to patient}\n",
    "    transferVec::Vector{Int64}; # vector of embryo nums to transfer (if a == TR)\n",
    "end\n",
    "\n",
    "type SApair\n",
    "    s::EmbryoState;\n",
    "    a::EmbryoAction;\n",
    "end"
   ]
  },
  {
   "cell_type": "code",
   "execution_count": 42,
   "metadata": {
    "collapsed": true
   },
   "outputs": [],
   "source": [
    "# the grid world mdp type\n",
    "type GridWorld <: POMDP\n",
    "    size_x::Int64 # x size of the grid\n",
    "    size_y::Int64 # y size of the grid\n",
    "    reward_states::Vector{GridWorldState} # the states in which agent recieves reward\n",
    "    reward_values::Vector{Float64} # reward values for those states\n",
    "    bounds_penalty::Float64 # penalty for bumping the wall\n",
    "    tprob::Float64 # probability of transitioning to the desired state\n",
    "    discount_factor::Float64 # disocunt factor\n",
    "end\n",
    "\n",
    "# E: embryo culture MDP scenario\n",
    "type EmbryoCulture <: POMDP\n",
    "    rewardSA::Dict{SApair,Float64}; # (s,a) pairs map to rewards \n",
    "    discount_factor::Float64 = 1;\n",
    "end"
   ]
  },
  {
   "cell_type": "code",
   "execution_count": 33,
   "metadata": {
    "collapsed": false
   },
   "outputs": [
    {
     "data": {
      "text/plain": [
       "EmbryoCulture (constructor with 2 methods)"
      ]
     },
     "execution_count": 33,
     "metadata": {},
     "output_type": "execute_result"
    }
   ],
   "source": [
    "# we use key worded arguments so we can change any of the values we pass in \n",
    "function GridWorld(;sx::Int64=10, # size_x\n",
    "                    sy::Int64=10, # size_y\n",
    "                    rs::Vector{GridWorldState}=[GridWorldState(4,3), GridWorldState(4,6), GridWorldState(9,3), GridWorldState(8,8)], # reward states\n",
    "                    rv::Vector{Float64}=rv = [-10.,-5,10,3], # reward values\n",
    "                    penalty::Float64=-1.0, # bounds penalty\n",
    "                    tp::Float64=0.7, # tprob\n",
    "                    discount_factor::Float64=0.9)\n",
    "    return GridWorld(sx, sy, rs, rv, penalty, tp, discount_factor)\n",
    "end\n",
    "\n",
    "# we can now create a GridWorld mdp instance like this:\n",
    "mdp = GridWorld()\n",
    "mdp.reward_states # mdp contains all the defualt values from the constructor\n",
    "\n",
    "# E: function to set up embryo culture POMDP, no default values for now\n",
    "\n",
    "# define default reward scenario\n",
    "SAdefault = [SApair(EmbryoState(1,0,128), EmbryoAction('TR', [1]))=>10, # transfer viable embryo \n",
    "    SApair(EmbryoState(1,0,64), EmbryoAction('TR', [1]))=>1,];\n",
    "function EmbryoCulture(rSA::Dict{SApair,Float64}=SAdefault,df::Float64=1)\n",
    "    return EmbryoCulture(rSA,df)\n",
    "end"
   ]
  },
  {
   "cell_type": "code",
   "execution_count": null,
   "metadata": {
    "collapsed": true
   },
   "outputs": [],
   "source": [
    "type StateSpace <: AbstractSpace\n",
    "    states::Vector{GridWorldState}\n",
    "end"
   ]
  },
  {
   "cell_type": "code",
   "execution_count": null,
   "metadata": {
    "collapsed": true
   },
   "outputs": [],
   "source": [
    "function POMDPs.states(mdp::GridWorld)\n",
    "    s = GridWorldState[] # initialize an array of GridWorldStates\n",
    "    # loop over all our states, remeber there are two binary variables:\n",
    "    # done (d) and bumped(b)\n",
    "    for d = 0:1, b = 0:1, y = 1:mdp.size_y, x = 1:mdp.size_x\n",
    "        push!(s, GridWorldState(x,y,b,d))\n",
    "    end\n",
    "    return StateSpace(s)\n",
    "end;"
   ]
  },
  {
   "cell_type": "code",
   "execution_count": null,
   "metadata": {
    "collapsed": false
   },
   "outputs": [],
   "source": [
    "# let's use the constructor for GridWorld we defined earlier\n",
    "mdp = GridWorld()\n",
    "state_space = states(mdp);\n",
    "state_space.states[1] # remeber that our state space instance has an array called states in it"
   ]
  },
  {
   "cell_type": "code",
   "execution_count": null,
   "metadata": {
    "collapsed": false
   },
   "outputs": [],
   "source": [
    "function POMDPs.domain(space::StateSpace)\n",
    "    return space.states \n",
    "end;"
   ]
  },
  {
   "cell_type": "code",
   "execution_count": null,
   "metadata": {
    "collapsed": true
   },
   "outputs": [],
   "source": [
    "mdp = GridWorld()\n",
    "state_space = states(mdp);\n",
    "for s in domain(state_space)\n",
    "    # value iteration applies the bellman operator to your state s\n",
    "end"
   ]
  },
  {
   "cell_type": "code",
   "execution_count": null,
   "metadata": {
    "collapsed": true
   },
   "outputs": [],
   "source": [
    "function POMDPs.rand!(s::GridWorldState, space::StateSpace)\n",
    "    sp = space.states[rand(1:end)]\n",
    "    copy!(s, sp)\n",
    "    s\n",
    "end;"
   ]
  },
  {
   "cell_type": "code",
   "execution_count": 35,
   "metadata": {
    "collapsed": false
   },
   "outputs": [],
   "source": [
    "workspace()"
   ]
  },
  {
   "cell_type": "code",
   "execution_count": null,
   "metadata": {
    "collapsed": true
   },
   "outputs": [],
   "source": []
  }
 ],
 "metadata": {
  "kernelspec": {
   "display_name": "Julia 0.3.11",
   "language": "julia",
   "name": "julia-0.3"
  },
  "language_info": {
   "file_extension": ".jl",
   "mimetype": "application/julia",
   "name": "julia",
   "version": "0.3.11"
  }
 },
 "nbformat": 4,
 "nbformat_minor": 0
}
