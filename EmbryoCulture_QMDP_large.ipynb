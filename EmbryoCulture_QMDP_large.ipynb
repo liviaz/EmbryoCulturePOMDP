{
 "cells": [
  {
   "cell_type": "code",
   "execution_count": 1,
   "metadata": {
    "collapsed": true
   },
   "outputs": [],
   "source": [
    "# drastically reduced size of state,action,observation spaces to make problem more tractable\n",
    "# s : 50^n -> 5n^3\n",
    "# a : 2^n -> n\n",
    "# o : 25^n -> 5n^2\n",
    "\n",
    "using POMDPs\n",
    "using POMDPDistributions\n",
    "using Distributions\n",
    "using SARSOP\n",
    "using POMDPModels\n",
    "using Iterators\n",
    "using POMDPToolbox\n",
    "using QMDP\n",
    "using SARSOP"
   ]
  },
  {
   "cell_type": "code",
   "execution_count": 2,
   "metadata": {
    "collapsed": false
   },
   "outputs": [
    {
     "data": {
      "text/plain": [
       "discount (generic function with 5 methods)"
      ]
     },
     "execution_count": 2,
     "metadata": {},
     "output_type": "execute_result"
    }
   ],
   "source": [
    "##################################################\n",
    "######### EmbryoCulture POMDP ####################\n",
    "##################################################\n",
    "\n",
    "type EmbryoCulture <: POMDP\n",
    "    n::Int64; # number of embryos starting in culture\n",
    "    dayStart::Int64;\n",
    "    discount::Float64; # = 1; # discount_factor\n",
    "    pv::Float64; # = 0.9; # probability that a viable embryo will continue to be viable\n",
    "    pn::Array{Float64,1}; # = [.7; .95]; # probability that a [nonviable, viable] embryo will keep its morphology\n",
    "end\n",
    "\n",
    "EmbryoCulture(n::Int64) = EmbryoCulture(n,1,1,0.9,[0.7;0.95]);\n",
    "\n",
    "# calculate expected viable at day 5\n",
    "# about half of viable day 1 embryos make it to day 5\n",
    "function expectedViable(nv::Int64, day::Int64)\n",
    "    return nv * (2 ^ (-(5 - day)/4))\n",
    "end\n",
    "\n",
    "function POMDPs.discount(mdp::EmbryoCulture)\n",
    "    return mdp.discount; \n",
    "end"
   ]
  },
  {
   "cell_type": "code",
   "execution_count": 3,
   "metadata": {
    "collapsed": false
   },
   "outputs": [
    {
     "data": {
      "text/plain": [
       "copy! (generic function with 26 methods)"
      ]
     },
     "execution_count": 3,
     "metadata": {},
     "output_type": "execute_result"
    }
   ],
   "source": [
    "##################################################\n",
    "######### EmbryoState definitions ################\n",
    "##################################################\n",
    "\n",
    "# EmbryoState definition\n",
    "type EmbryoState <: State\n",
    "    n::Int64 # total number of embryos in culture\n",
    "    v::Int64 # number of currently viable embryos\n",
    "    \n",
    "    # number of embryos with {poor, fair, good} morphology\n",
    "    mV::Array{Int64,1} # morphology distribution for viable mebryos\n",
    "    mNV::Array{Int64,1} # morphology distribution for nonviable embryos\n",
    "    done::Int64; # done? (only if B, TR or D)\n",
    "    day::Int64; # culture day\n",
    "end\n",
    "\n",
    "# helper to generate morphology distribution {poor, fair, good}\n",
    "function generateMorphology(nEmbryos::Int64, viable::Bool, theta::Array{Float64,1}=[.8;.9])\n",
    "    \n",
    "    mOut = zeros(Int64,3);\n",
    "    b = Bernoulli(theta[viable + 1]);\n",
    "    \n",
    "    for i = 1:nEmbryos\n",
    "        currInd = sum(rand(b,2)) + 1;\n",
    "        mOut[currInd] += 1;\n",
    "    end\n",
    "    \n",
    "    return mOut;\n",
    "end\n",
    "\n",
    "# initialize day1 embryos with known viability\n",
    "EmbryoState(n::Int64, v::Int64) = EmbryoState(n,v,generateMorphology(v,true), generateMorphology(n-v,false),0,1);\n",
    "EmbryoState(n::Int64, v::Int64, mV::Array{Int64,1}, mNV::Array{Int64,1}) = EmbryoState(n,v,mV,mNV,0,1);\n",
    "\n",
    "function ==(s1::EmbryoState, s2::EmbryoState)\n",
    "    return (s1.n == s2.n) && (s1.v == s2.v) && (s1.mV == s2.mV) && \n",
    "        (s1.mNV == s2.mNV) && (s1.done == s2.done) && (s1.day == s2.day);\n",
    "end\n",
    "\n",
    "# convert EmbryoState to string for hashing purposes\n",
    "function embryoStateToString(s::EmbryoState)\n",
    "    return string(s.n,s.v,s.mV[1], s.mV[2], s.mV[3],s.mNV[1], s.mNV[2], s.mNV[3],s.done,s.day);\n",
    "end\n",
    "\n",
    "# convert string to EmbryoState for hashing purposes\n",
    "function stringToEmbryoState(s::ASCIIString)\n",
    "   \n",
    "    n = parse(Int64, s[1]);\n",
    "    v = parse(Int64, s[2]);\n",
    "    \n",
    "    mV = [parse(Int64, s[3]);parse(Int64, s[4]);parse(Int64, s[5])];\n",
    "    mNV = [parse(Int64, s[6]);parse(Int64, s[7]);parse(Int64, s[8])];\n",
    "\n",
    "    done = parse(Int64, s[9]);\n",
    "    day = parse(Int64, s[10]);\n",
    "        \n",
    "    return EmbryoState(n,v,mV,mNV,done,day);\n",
    "end\n",
    "\n",
    "# convert Array{string} to Array{EmbryoState} for hashing purposes\n",
    "function stringToEmbryoState(sa::Array{ASCIIString,1})\n",
    "   \n",
    "    nStates = length(sa);\n",
    "    ea = cell(nStates);\n",
    "    \n",
    "    for j in 1:nStates\n",
    "        s = sa[j];\n",
    "    \n",
    "        n = parse(Int64, s[1]);\n",
    "        v = parse(Int64, s[2]);\n",
    "\n",
    "        mV = [parse(Int64, s[3]);parse(Int64, s[4]);parse(Int64, s[5])];\n",
    "        mNV = [parse(Int64, s[6]);parse(Int64, s[7]);parse(Int64, s[8])];\n",
    "\n",
    "        done = parse(Int64, s[9]);\n",
    "        day = parse(Int64, s[10]);\n",
    "\n",
    "        ea[j] = EmbryoState(n,v,mV,mNV,done,day);\n",
    "    end\n",
    "    \n",
    "    return ea;\n",
    "end\n",
    "\n",
    "function Base.copy!(s1::EmbryoState, s2::EmbryoState)\n",
    "    s1.n = s2.n;\n",
    "    s1.v = s2.v;\n",
    "    s1.mV = s2.mV;\n",
    "    s1.mNV = s2.mNV;\n",
    "    s1.done = s2.done;\n",
    "    s1.day = s2.day;\n",
    "    s1\n",
    "end"
   ]
  },
  {
   "cell_type": "code",
   "execution_count": 4,
   "metadata": {
    "collapsed": false
   },
   "outputs": [
    {
     "data": {
      "text/plain": [
       "rand! (generic function with 26 methods)"
      ]
     },
     "execution_count": 4,
     "metadata": {},
     "output_type": "execute_result"
    }
   ],
   "source": [
    "##################################################\n",
    "######### EmbryoStateSpace etc. ##################\n",
    "##################################################\n",
    "type EmbryoStateIterator\n",
    "    n::Int64;\n",
    "    minVals::Array{Int64,1};\n",
    "    maxVals::Array{Int64,1};\n",
    "end\n",
    "\n",
    "EmbryoStateIterator(n::Int64) = EmbryoStateIterator(n,[1;0;0;0;0;0;0;0],[5;n;n;n;n;n;n;n]);\n",
    "\n",
    "function Base.start(e::EmbryoStateIterator)\n",
    "    return EmbryoState(e.n,0,[0;0;0],[0,0,e.n],0,1);\n",
    "end\n",
    "\n",
    "function Base.done(e::EmbryoStateIterator, state)\n",
    "    return state.day == 6;\n",
    "end\n",
    "\n",
    "function Base.next(e::EmbryoStateIterator, state)\n",
    "\n",
    "    currV = state.v;\n",
    "    currNV = state.n - state.v;\n",
    "        \n",
    "    iterVector = [state.day;state.v;state.mV;state.mNV];\n",
    "    \n",
    "    # advance iterVector until we get a valid v,mV,mNV combo\n",
    "    isValid = false;\n",
    "    \n",
    "    while (isValid == false)\n",
    "    \n",
    "        i = 8;\n",
    "\n",
    "        # increment entire vector by 1, check if it's valid\n",
    "        while (i > 1) && (iterVector[i] == e.maxVals[i])\n",
    "            iterVector[i] = e.minVals[i];\n",
    "            i -= 1;\n",
    "        end\n",
    "        \n",
    "        iterVector[i] += 1;\n",
    "        vNew = iterVector[2];\n",
    "        vSum = sum(iterVector[3:5]);\n",
    "        nvSum = sum(iterVector[6:8]);\n",
    "        isValid = (vSum == vNew) && (nvSum == (state.n - vNew))\n",
    "        \n",
    "    end\n",
    "    \n",
    "    return (state, EmbryoState(state.n, iterVector[2], iterVector[3:5], iterVector[6:8], 0, iterVector[1]));\n",
    "    \n",
    "end\n",
    "\n",
    "type EmbryoStateSpace <: AbstractSpace\n",
    "    # only variable is state iterator \n",
    "    states::EmbryoStateIterator; \n",
    "end\n",
    "\n",
    "# returns EmbryoStateSpace\n",
    "function POMDPs.states(mdp::EmbryoCulture)\n",
    "    return EmbryoStateSpace(EmbryoStateIterator(mdp.n));\n",
    "end;\n",
    "\n",
    "# returns EmbryoStateIterator\n",
    "function POMDPs.domain(space::EmbryoStateSpace)\n",
    "    return space.states;\n",
    "end\n",
    "\n",
    "# count number of states in state space\n",
    "function POMDPs.n_states(mdp::EmbryoCulture)\n",
    "    s = 0;  \n",
    "    for i in 0:mdp.n\n",
    "        s += (i+1)*(i+2)*(mdp.n-i+1)*(mdp.n-i+2)/4;\n",
    "    end  \n",
    "    return convert(Int64,s*5);\n",
    "end\n",
    "\n",
    "# define function to uniformly sample state space\n",
    "function POMDPs.rand!(es::EmbryoState, space::EmbryoStateSpace)\n",
    "    \n",
    "    n = space.states.n;\n",
    "    s = 0;\n",
    "    for i in 0:n\n",
    "        s += (i+1)*(i+2)*(n-i+1)*(n-i+2)/4;\n",
    "    end \n",
    "    s *= 5;\n",
    "    \n",
    "    sp = start(takenth(space.states,rand(1:s)));\n",
    "    copy!(es, sp)\n",
    "    es\n",
    "end"
   ]
  },
  {
   "cell_type": "code",
   "execution_count": 5,
   "metadata": {
    "collapsed": false
   },
   "outputs": [
    {
     "data": {
      "text/plain": [
       "n_actions (generic function with 5 methods)"
      ]
     },
     "execution_count": 5,
     "metadata": {},
     "output_type": "execute_result"
    }
   ],
   "source": [
    "##################################################\n",
    "######### EmbryoAction definitions ###############\n",
    "##################################################\n",
    "\n",
    "type EmbryoAction <: Action\n",
    "    a::String # {CC = continue culture, TL = measure time lapse params, B = biopsy (genetic testing), D = discard all}\n",
    "    # if we're transferring, TR = # to transfer to patient}\n",
    "    tr::Int64; # transfer tr embryos to patient in order of morphology. If morphologically equal, choose at random\n",
    "end\n",
    "\n",
    "type EmbryoActionSpace <: AbstractSpace\n",
    "    actions::Array{EmbryoAction,1}\n",
    "end\n",
    "\n",
    "function POMDPs.actions(mdp::EmbryoCulture)\n",
    "    \n",
    "    acts = Array(EmbryoAction,mdp.n+4);\n",
    "    acts[1] = EmbryoAction(\"CC\", 0); # continue culture only\n",
    "    acts[2] = EmbryoAction(\"TL\", 0); # collect cell cycle params\n",
    "    acts[3] = EmbryoAction(\"B\", 0); # biopsy all\n",
    "    acts[4] = EmbryoAction(\"D\", 0); # discard all\n",
    "    \n",
    "    for i in 1:mdp.n\n",
    "        acts[i+4] = EmbryoAction(\"TR\", i);\n",
    "    end\n",
    "    \n",
    "    return EmbryoActionSpace(acts)\n",
    "end\n",
    "\n",
    "POMDPs.actions(mdp::EmbryoCulture, s::EmbryoState, as::EmbryoActionSpace=actions(mdp)) = as;\n",
    "\n",
    "function POMDPs.domain(space::EmbryoActionSpace)\n",
    "    return space.actions; \n",
    "end\n",
    "\n",
    "function POMDPs.rand!(ea::EmbryoAction, space::EmbryoActionSpace)\n",
    "    ap = space.actions[rand(1:(length(space.actions)))];\n",
    "    ea.a = ap.a;\n",
    "    ea.tr = ap.tr;\n",
    "    ea \n",
    "end\n",
    "\n",
    "function POMDPs.n_actions(mdp::EmbryoCulture)\n",
    "    return 4 + (mdp.n);\n",
    "end\n"
   ]
  },
  {
   "cell_type": "code",
   "execution_count": 6,
   "metadata": {
    "collapsed": false
   },
   "outputs": [
    {
     "data": {
      "text/plain": [
       "transition (generic function with 9 methods)"
      ]
     },
     "execution_count": 6,
     "metadata": {},
     "output_type": "execute_result"
    }
   ],
   "source": [
    "##################################################\n",
    "############## Transition Function ###############\n",
    "##################################################\n",
    "\n",
    "# define transition distribution\n",
    "type EmbryoTransitionDistribution <: AbstractDistribution\n",
    "    tD::Dict{ASCIIString, Float64}; # s' ==> p(s')\n",
    "end\n",
    "\n",
    "# initialize transition distribution (for preallocation only)\n",
    "function POMDPs.create_transition_distribution(mdp::EmbryoCulture)\n",
    "    # initialize dict with neighbors => probabilities \n",
    "    tD = Dict{ASCIIString, Float64}(); # transition distribution\n",
    "    return EmbryoTransitionDistribution(tD);\n",
    "end\n",
    "\n",
    "# get all possible next states\n",
    "function POMDPs.domain(d::EmbryoTransitionDistribution)\n",
    "    return stringToEmbryoState(collect(keys(d.tD))); \n",
    "end\n",
    "\n",
    "# get p(s')\n",
    "function POMDPs.pdf(d::EmbryoTransitionDistribution, s::EmbryoState)\n",
    "    sk = embryoStateToString(s);\n",
    "    if haskey(d.tD, sk)\n",
    "        return d.tD[sk];\n",
    "    else\n",
    "        return 0.0;\n",
    "    end\n",
    "end\n",
    "\n",
    "# randomly sample next state according to transition probs\n",
    "function POMDPs.rand!(d::EmbryoTransitionDistribution, s::EmbryoState)\n",
    "    keyArray = collect(keys(d.tD));\n",
    "    pArray = collect(values(d.tD));\n",
    "    \n",
    "    # normalize to make sure it's a probability distribution\n",
    "    pArray /= sum(pArray);\n",
    "    cat = Categorical(pArray);\n",
    "    \n",
    "    randState = stringToEmbryoState(keyArray[rand(cat)]);\n",
    "    copy!(s, randState);\n",
    "    return s;\n",
    "end\n",
    "\n",
    "function calcP(mNew::Array{Int64,1},mOld::Array{Int64,1},p)\n",
    "   \n",
    "    pOut = 1;\n",
    "    mOldCopy = deepcopy(mOld);\n",
    "    \n",
    "    for i in 1:(length(mNew)-1)\n",
    "        nStay = mOldCopy[i];\n",
    "        nDrop = mNew[i] - nStay;\n",
    "        mOldCopy[i+1] -= nDrop;\n",
    "        pOut *= (p^nStay)*(1-p)^(nDrop);\n",
    "    end\n",
    "    \n",
    "    pOut *= p^(mOldCopy[3]);\n",
    "    return pOut;\n",
    "end\n",
    "\n",
    "# transition model\n",
    "function POMDPs.transition(mdp::EmbryoCulture, s::EmbryoState, a::EmbryoAction,\n",
    "    d::EmbryoTransitionDistribution=create_transition_distribution(mdp))\n",
    "\n",
    "    # if we're already \"done\" or if action leads to terminal state\n",
    "    # (action = TR or D or B, day = 5) then can't change state\n",
    "    if (s.day > 4) || (s.done > 0) || (a.a == \"TR\") || (a.a == \"D\") || (a.a == \"B\")\n",
    "        # can not transition out of done state\n",
    "        d.tD = [embryoStateToString(EmbryoState(s.n,s.v,s.mV,s.mNV,1,s.day)) => 1.0];\n",
    "        return d;\n",
    "    end\n",
    "    \n",
    "    pv = mdp.pv; # p(v(t+1) = 1 | v(t) = 1)\n",
    "    pn = mdp.pn; # p(n(t+1) = n(t)) for [nonviable, viable] embryo \n",
    "\n",
    "    # v(t+1) could go from 0 to v(t)\n",
    "    iterVector = zeros(Int64,7);\n",
    "    minVals = zeros(Int64,7);\n",
    "    maxVals = s.n * ones(Int64,7);\n",
    "    \n",
    "    # re-init dictionary w/ s' => p(s')\n",
    "    d.tD = Dict{ASCIIString, Float64}();\n",
    "    \n",
    "    # advance iterVector until we go through ALL valid v,mV,mNV combos\n",
    "    while (iterVector[1] < (s.v + 1))\n",
    "        \n",
    "        isValid = false;\n",
    "        while (isValid == false) && (iterVector[1] < (s.v + 1))\n",
    "            i = 7;\n",
    "\n",
    "            # increment entire vector by 1, check if it's valid\n",
    "            while (i > 1) && (iterVector[i] == maxVals[i])\n",
    "                iterVector[i] = minVals[i];\n",
    "                i -= 1;\n",
    "            end\n",
    "\n",
    "            iterVector[i] += 1;\n",
    "            vNew = deepcopy(iterVector[1]);\n",
    "            vSum = sum(iterVector[2:4]);\n",
    "            nvSum = sum(iterVector[5:7]);\n",
    "            isValid = (vSum == vNew) && (nvSum == (s.n - vNew));\n",
    "            \n",
    "        end\n",
    "            \n",
    "        if vNew < (s.v + 1)\n",
    "           \n",
    "            vNew = deepcopy(iterVector[1]);\n",
    "            mvNew = deepcopy(iterVector[2:4]);\n",
    "            mnvNew = deepcopy(iterVector[5:7]);\n",
    "            sNew = EmbryoState(s.n,vNew,mvNew,mnvNew,0,s.day+1);\n",
    "                \n",
    "            # 1. subtract viable embryos from s.mV\n",
    "            mvSub = deepcopy(s.mV);\n",
    "            eRM = [0;0;0]; # embryos removed from mvSub\n",
    "            \n",
    "            for i in 1:3\n",
    "                numChange = min(s.v - vNew - sum(eRM), mvSub[i]);\n",
    "                eRM[i] += numChange;\n",
    "                mvSub[i] -= numChange;\n",
    "            end\n",
    "            \n",
    "            # 2. add embryos of same morphology to mNV\n",
    "            mnvAdd = deepcopy(s.mNV) + eRM; \n",
    "            maxV = [mvSub[1] + mvSub[2]; mvSub[2] + mvSub[3]; mvSub[3]];\n",
    "            maxNV = [mnvAdd[1] + mnvAdd[2]; mnvAdd[2] + mnvAdd[3]; mnvAdd[3]];\n",
    "            \n",
    "            # 3. if state is unreachable, write p = 0\n",
    "            if (mvNew[1] > maxV[1]) || (mvNew[2] > maxV[2]) || (mvNew[3] > maxV[3]) \n",
    "                d.tD[embryoStateToString(sNew)] = 0.0;\n",
    "            elseif (mnvNew[1] > maxNV[1]) || (mnvNew[2] > maxNV[2]) || (mnvNew[3] > maxNV[3]) \n",
    "                d.tD[embryoStateToString(sNew)] = 0.0;\n",
    "            else   \n",
    "                # 4. if it is reachable, compute probability and write to dict\n",
    "                pNew = (pv^(vNew))*((1-pv)^(s.v-vNew)); # p(vNew(t+1)|s.v(t))\n",
    "                pNew *= calcP(mvNew,mvSub,pn[2]); # pdf for mvNew\n",
    "                pNew *= calcP(mnvNew,mnvAdd,pn[1]); # pdf for mnvNew\n",
    "                d.tD[embryoStateToString(sNew)] = pNew; \n",
    "            end\n",
    "        end \n",
    "    end\n",
    "    \n",
    "    return d;\n",
    "end"
   ]
  },
  {
   "cell_type": "code",
   "execution_count": 7,
   "metadata": {
    "collapsed": false
   },
   "outputs": [
    {
     "data": {
      "text/plain": [
       "EmbryoState(1,0,[0,0,0],[0,0,1],0,2)"
      ]
     },
     "metadata": {},
     "output_type": "display_data"
    },
    {
     "data": {
      "text/plain": [
       "EmbryoState(1,0,[0,0,0],[1,0,0],0,2)"
      ]
     },
     "metadata": {},
     "output_type": "display_data"
    },
    {
     "data": {
      "text/plain": [
       "EmbryoState(1,1,[0,0,1],[0,0,0],0,2)"
      ]
     },
     "metadata": {},
     "output_type": "display_data"
    },
    {
     "data": {
      "text/plain": [
       "EmbryoState(1,1,[0,1,0],[0,0,0],0,2)"
      ]
     },
     "metadata": {},
     "output_type": "display_data"
    },
    {
     "data": {
      "text/plain": [
       "EmbryoState(1,1,[1,0,0],[0,0,0],0,2)"
      ]
     },
     "metadata": {},
     "output_type": "display_data"
    },
    {
     "data": {
      "text/plain": [
       "EmbryoState(1,0,[0,0,0],[0,1,0],0,2)"
      ]
     },
     "metadata": {},
     "output_type": "display_data"
    },
    {
     "name": "stdout",
     "output_type": "stream",
     "text": [
      "elapsed time: 0.776275026 seconds\n"
     ]
    },
    {
     "data": {
      "text/plain": [
       "0.776275026"
      ]
     },
     "execution_count": 7,
     "metadata": {},
     "output_type": "execute_result"
    }
   ],
   "source": [
    "# test cell only\n",
    "tic()\n",
    "mdp = EmbryoCulture(1);\n",
    "stateSpace = states(mdp)\n",
    "\n",
    "#startingState = EmbryoState(mdp.vStart,mdp.nStart);\n",
    "#randState = rand!(startingState, stateSpace)\n",
    "\n",
    "#display(randState)\n",
    "\n",
    "i = 1;\n",
    "for es in domain(transition(mdp, EmbryoState(1,1,[1;0;0],[0;0;0]), EmbryoAction(\"CC\",0)))\n",
    "    i += 1;\n",
    "    display(es)\n",
    "    if i > 200\n",
    "        break;\n",
    "    end\n",
    "end\n",
    "toc()"
   ]
  },
  {
   "cell_type": "code",
   "execution_count": 8,
   "metadata": {
    "collapsed": false
   },
   "outputs": [
    {
     "data": {
      "text/plain": [
       "reward (generic function with 6 methods)"
      ]
     },
     "execution_count": 8,
     "metadata": {},
     "output_type": "execute_result"
    }
   ],
   "source": [
    "##################################################\n",
    "################ Reward Function #################\n",
    "##################################################\n",
    "# output reward given state,action\n",
    "function POMDPs.reward(mdp::EmbryoCulture, s::EmbryoState, a::EmbryoAction)\n",
    "    \n",
    "    nDay = s.day;\n",
    "    \n",
    "    # if we are in a terminal state, no reward\n",
    "    if (s.done == 1)\n",
    "        return 0;\n",
    "    # if we are transferring some of the embryos\n",
    "    elseif a.a == \"TR\"\n",
    "\n",
    "        nTransfer = a.tr;\n",
    "        nSampled = [];\n",
    "        \n",
    "        # randomly choose nTransfer best morphology embryos\n",
    "        i = 3;\n",
    "        while (i > 0) && (length(nSampled) < nTransfer)\n",
    "            currV = s.mV[i];\n",
    "            currNV = s.mNV[i];\n",
    "            numToSample = min(nTransfer - length(nSampled), currV + currNV);\n",
    "            arrayToSample = [zeros(Int64,currNV); ones(Int64,currV)];\n",
    "            nSampled = [nSampled; sample(arrayToSample,numToSample,replace=false)];\n",
    "            i -= 1;\n",
    "        end\n",
    "        \n",
    "        nViable = sum(nSampled);\n",
    "        ev = expectedViable(nViable, nDay);\n",
    "        \n",
    "        # big negative reward if no viable embryos transferred\n",
    "        # big positive reward if one viable embryo transferred\n",
    "        # diminishing positive rewards for >1 viable embryo transferred\n",
    "        if ev < 1\n",
    "            return -20; # transfer 0 viable embryos\n",
    "        else \n",
    "            return 56 - 16*floor(ev); # transfer >= 1 viable embryo\n",
    "        end\n",
    "    elseif a.a == \"D\"\n",
    "        \n",
    "        nViable = s.v;\n",
    "        ev = expectedViable(nViable, nDay);\n",
    "        \n",
    "        # slight negative reward for discarding all (meaning no viable embryos available to transfer)\n",
    "        # big negative reward for discarding viable embryos\n",
    "        if ev < 1\n",
    "            return -2; # none viable, discard all\n",
    "        else \n",
    "            return -20; # discard >= 1 viable embryo\n",
    "        end\n",
    "    elseif a.a == \"B\"\n",
    "        \n",
    "        # ignore biopsy option for now\n",
    "        nViable = s.v;\n",
    "        ev = expectedViable(nViable, nDay);\n",
    "        \n",
    "        return -80;\n",
    "        if nDay < 5\n",
    "            return -40;\n",
    "        elseif ev < 1 \n",
    "            return -5;\n",
    "        else\n",
    "            return 40;\n",
    "        end\n",
    "    elseif a.a == \"TL\"\n",
    "        if nDay > 3\n",
    "            return -40;\n",
    "        else\n",
    "            return -2; # slight negative reward for doing test\n",
    "        end\n",
    "    else\n",
    "        # do nothing / continue culture\n",
    "        if nDay > 4\n",
    "            return -40;\n",
    "        else\n",
    "            return -1; # slight negative reward for continuing culture\n",
    "        end\n",
    "    end\n",
    "end"
   ]
  },
  {
   "cell_type": "code",
   "execution_count": 9,
   "metadata": {
    "collapsed": false
   },
   "outputs": [
    {
     "data": {
      "text/plain": [
       "n_observations (generic function with 4 methods)"
      ]
     },
     "execution_count": 9,
     "metadata": {},
     "output_type": "execute_result"
    }
   ],
   "source": [
    "##################################################\n",
    "########## Observation Distribution ##############\n",
    "##################################################\n",
    "# observation definitions\n",
    "type EmbryoObservation <: Observation\n",
    "    n::Int64; # number of embryos in culture\n",
    "    oN::Array{Int64,1}; # morphology of all embryos (3x1 vector)\n",
    "    oD::Int64; # day in culture\n",
    "end\n",
    "\n",
    "function Base.copy!(o1::EmbryoObservation, o2::EmbryoObservation)\n",
    "    o1.n = o2.n;\n",
    "    o1.oN = o2.oN;\n",
    "    o1.oD = o2.oD;\n",
    "    return o1;\n",
    "end\n",
    "\n",
    "# convert EmbryoState to string for hashing purposes\n",
    "function embryoObsToString(obs::EmbryoObservation)\n",
    "    sOut = string(obs.oN[1],obs.oN[2],obs.oN[3], obs.oD, obs.n);\n",
    "    return sOut;\n",
    "end\n",
    "\n",
    "# convert string to EmbryoState for hashing purposes\n",
    "function stringToEmbryoObs(s::ASCIIString)\n",
    "    oN = [parse(Int64, s[1]);parse(Int64, s[2]);parse(Int64, s[3])];\n",
    "    oD = parse(Int64, s[4]);   \n",
    "    n = parse(Int64,s[5]);\n",
    "    return EmbryoObservation(n,oN,oD);\n",
    "end\n",
    "\n",
    "# convert Array{string} to Array{EmbryoState} for hashing purposes\n",
    "function stringToEmbryoObs(oa::Array{ASCIIString,1})\n",
    "   \n",
    "    nStates = length(oa);\n",
    "    oOut = cell(nStates);\n",
    "    \n",
    "    for j in 1:nStates\n",
    "        s = oa[j];\n",
    "        oN = [parse(Int64, s[1]);parse(Int64, s[2]);parse(Int64, s[3])];\n",
    "        oD = parse(Int64, s[4]);  \n",
    "        n = parse(Int64,s[5]);\n",
    "        oOut[j] = EmbryoObservation(n,oN,oD);\n",
    "    end\n",
    "    \n",
    "    return oOut;\n",
    "end\n",
    "\n",
    "type EmbryoObservationIterator\n",
    "    n::Int64;\n",
    "    minVals::Array{Int64,1};\n",
    "    maxVals::Array{Int64,1};\n",
    "end\n",
    "\n",
    "EmbryoObservationIterator(n::Int64) = EmbryoObservationIterator(n,[1;0;0;0],[5;n;n;n]);\n",
    "\n",
    "function Base.start(e::EmbryoObservationIterator)\n",
    "    return EmbryoObservation(e.n,[0;0;e.n],1);\n",
    "end\n",
    "\n",
    "function Base.done(e::EmbryoObservationIterator, obs)\n",
    "    return obs.oD == 6;\n",
    "end\n",
    "\n",
    "function Base.next(e::EmbryoObservationIterator, obs)\n",
    "        \n",
    "    iterVector = [obs.oD;obs.oN];\n",
    "    \n",
    "    # advance iterVector until we get a valid oN\n",
    "    isValid = false;\n",
    "    \n",
    "    while (isValid == false)\n",
    "    \n",
    "        i = 4;\n",
    "\n",
    "        # increment entire vector by 1, check if it's valid\n",
    "        while (i > 1) && (iterVector[i] == e.maxVals[i])\n",
    "            iterVector[i] = e.minVals[i];\n",
    "            i -= 1;\n",
    "        end\n",
    "        \n",
    "        iterVector[i] += 1;\n",
    "        oNewSum = sum(iterVector[2:4]);\n",
    "        isValid = (obs.n == oNewSum);\n",
    "    end\n",
    "    \n",
    "    return (obs, EmbryoObservation(obs.n, iterVector[2:4], iterVector[1]));\n",
    "end\n",
    "\n",
    "type EmbryoObservationSpace <: AbstractSpace\n",
    "    obs::EmbryoObservationIterator;\n",
    "end\n",
    "\n",
    "# function returning observation space\n",
    "function POMDPs.observations(mdp::EmbryoCulture)\n",
    "    return EmbryoObservationSpace(EmbryoObservationIterator(mdp.n));\n",
    "end\n",
    "    \n",
    "POMDPs.observations(mdp::EmbryoCulture, s::EmbryoState, obs::EmbryoObservationSpace) = obs;\n",
    "POMDPs.domain(space::EmbryoObservationSpace) = space.obs;\n",
    "\n",
    "# define observation distribution\n",
    "type EmbryoObservationDistribution <: AbstractDistribution\n",
    "    obsD::Dict{ASCIIString, Float64}; # s' ==> p(s')\n",
    "end\n",
    "\n",
    "# initialize observation distribution\n",
    "function POMDPs.create_observation_distribution(mdp::EmbryoCulture)\n",
    "    # initialize dict with neighbors => probabilities \n",
    "    return EmbryoObservationDistribution(Dict{ASCIIString, Float64}());\n",
    "end\n",
    "\n",
    "# get all possible next obs\n",
    "function POMDPs.domain(d::EmbryoObservationDistribution)\n",
    "    return stringToEmbryoObs(collect(keys(d.obsD))); \n",
    "end\n",
    "\n",
    "# get p(s')\n",
    "function POMDPs.pdf(d::EmbryoObservationDistribution, o::EmbryoObservation)\n",
    "    ok = embryoObsToString(o);\n",
    "    if haskey(d.obsD, ok)\n",
    "        return d.obsD[ok];\n",
    "    else\n",
    "        return 0.0;\n",
    "    end\n",
    "end\n",
    "\n",
    "# randomly sample next state according to transition probs\n",
    "function POMDPs.rand!(d::EmbryoObservationDistribution, o::EmbryoObservation)\n",
    "    keyArray = collect(keys(d.obsD));\n",
    "    pArray = collect(values(d.obsD));\n",
    "    cat = Categorical(pArray);\n",
    "    randObs = stringToEmbryoObs(keyArray[rand(cat)]);\n",
    "    copy!(o, randObs);\n",
    "    return o;\n",
    "end\n",
    "\n",
    "# observation model\n",
    "function POMDPs.observation(mdp::EmbryoCulture, s::EmbryoState, a::EmbryoAction, \n",
    "    d::EmbryoObservationDistribution=create_observation_distribution(mdp))\n",
    "    \n",
    "    # for now, observation is simply EXACTLY s.n, s.mV+s.mNV and s.day\n",
    "    d.obsD = [embryoObsToString(EmbryoObservation(s.n, s.mV+s.mNV, s.day)) => 1.0];\n",
    "    return d;\n",
    "end\n",
    "\n",
    "function POMDPs.n_observations(mdp::EmbryoCulture)\n",
    "    return 6*(mdp.n+1)*(mdp.n+2)/2;  \n",
    "end"
   ]
  },
  {
   "cell_type": "code",
   "execution_count": 10,
   "metadata": {
    "collapsed": true
   },
   "outputs": [],
   "source": [
    "# Belief ... modify this eventually to reflect starting day always = 1, know starting n\n",
    "\n",
    "POMDPs.create_belief(mdp::EmbryoCulture) = DiscreteBelief(n_states(EmbryoCulture(mdp.n)));\n",
    "POMDPs.initial_belief(mdp::EmbryoCulture) = DiscreteBelief(n_states(EmbryoCulture(mdp.n)));\n"
   ]
  },
  {
   "cell_type": "code",
   "execution_count": 11,
   "metadata": {
    "collapsed": false
   },
   "outputs": [
    {
     "name": "stdout",
     "output_type": "stream",
     "text": [
      "Iteration : 1, residual: 40.0, iteration run-time: 8464.483812594, total run-time: 8464.483812594\n",
      "Iteration : 2, residual: 8223.208980277543, iteration run-time: 8757.951377781, total run-time: 17222.435190375\n",
      "Iteration : 3, residual: 121770.33804317136, iteration run-time: 11856.853575946, total run-time: 29079.288766321\n",
      "Iteration : 4, residual: 171323.66920148907, iteration run-time: 11502.90915023, total run-time: 40582.197916551\n",
      "Iteration : 5, residual: 261275.6143158019, iteration run-time: 11514.306230765, total run-time: 52096.504147315994\n",
      "Iteration : 6, residual: 1947.0747859033945, iteration run-time: 11147.275590122, total run-time: 63243.779737437995\n"
     ]
    },
    {
     "data": {
      "text/plain": [
       "QMDPPolicy(1260x9 Array{Float64,2}:\n",
       "  -1.47106   -2.47106  -80.0   -2.0  -20.0  -20.0  -20.0  -20.0  -20.0\n",
       "  -1.76718   -2.76718  -80.0   -2.0  -20.0  -20.0  -20.0  -20.0  -20.0\n",
       "  -1.86206   -2.86206  -80.0   -2.0  -20.0  -20.0  -20.0  -20.0  -20.0\n",
       "  -1.83998   -2.83998  -80.0   -2.0  -20.0  -20.0  -20.0  -20.0  -20.0\n",
       "  -1.70803   -2.70803  -80.0   -2.0  -20.0  -20.0  -20.0  -20.0  -20.0\n",
       "  -1.41305   -2.41305  -80.0   -2.0  -20.0  -20.0  -20.0  -20.0  -20.0\n",
       "  -2.77125   -3.77125  -80.0   -2.0  -20.0  -20.0  -20.0  -20.0  -20.0\n",
       "  -2.96752   -3.96752  -80.0   -2.0  -20.0  -20.0  -20.0  -20.0  -20.0\n",
       "  -2.8574    -3.8574   -80.0   -2.0  -20.0  -20.0  -20.0  -20.0  -20.0\n",
       "  -2.41278   -3.41278  -80.0   -2.0  -20.0  -20.0  -20.0  -20.0  -20.0\n",
       "  -1.40544   -2.40544  -80.0   -2.0  -20.0  -20.0  -20.0  -20.0  -20.0\n",
       "  -5.25851   -6.25851  -80.0   -2.0  -20.0  -20.0  -20.0  -20.0  -20.0\n",
       "  -4.55837   -5.55837  -80.0   -2.0  -20.0  -20.0  -20.0  -20.0  -20.0\n",
       "   ⋮                                          ⋮                       \n",
       " -40.0      -40.0      -80.0  -20.0   40.0   24.0    8.0   -8.0  -24.0\n",
       " -40.0      -40.0      -80.0  -20.0   40.0   24.0    8.0   -8.0  -24.0\n",
       " -40.0      -40.0      -80.0  -20.0   40.0   24.0    8.0   -8.0  -24.0\n",
       " -40.0      -40.0      -80.0  -20.0   40.0   24.0    8.0   -8.0  -24.0\n",
       " -40.0      -40.0      -80.0  -20.0   40.0   24.0    8.0   -8.0  -24.0\n",
       " -40.0      -40.0      -80.0  -20.0   40.0   24.0    8.0   -8.0  -24.0\n",
       " -40.0      -40.0      -80.0  -20.0   40.0   24.0    8.0   -8.0  -24.0\n",
       " -40.0      -40.0      -80.0  -20.0   40.0   24.0    8.0   -8.0  -24.0\n",
       " -40.0      -40.0      -80.0  -20.0   40.0   24.0    8.0   -8.0  -24.0\n",
       " -40.0      -40.0      -80.0  -20.0   40.0   24.0    8.0   -8.0  -24.0\n",
       " -40.0      -40.0      -80.0  -20.0   40.0   24.0    8.0   -8.0  -24.0\n",
       " -40.0      -40.0      -80.0  -20.0   40.0   24.0    8.0   -8.0  -24.0,Action[EmbryoAction(\"CC\",0),EmbryoAction(\"TL\",0),EmbryoAction(\"B\",0),EmbryoAction(\"D\",0),EmbryoAction(\"TR\",1),EmbryoAction(\"TR\",2),EmbryoAction(\"TR\",3),EmbryoAction(\"TR\",4),EmbryoAction(\"TR\",5)])"
      ]
     },
     "execution_count": 11,
     "metadata": {},
     "output_type": "execute_result"
    }
   ],
   "source": [
    "using QMDP\n",
    "\n",
    "# initialize the solver\n",
    "# key-word args are the maximum number of iterations the solver will run for, and the Bellman tolerance\n",
    "solver = QMDPSolver(max_iterations=6, tolerance=1e-3) \n",
    "mdp = EmbryoCulture(5);\n",
    "\n",
    "# initialize the QMDP policy\n",
    "qmdp_policy = create_policy(solver, mdp)\n",
    " \n",
    "# run the solver\n",
    "solve(solver, mdp, qmdp_policy, verbose=true)"
   ]
  },
  {
   "cell_type": "code",
   "execution_count": null,
   "metadata": {
    "collapsed": false,
    "scrolled": false
   },
   "outputs": [
    {
     "name": "stdout",
     "output_type": "stream",
     "text": [
      "Time step 1"
     ]
    }
   ],
   "source": [
    "# simulate actions based on policy\n",
    "nInit = 5;\n",
    "vInit = 5;\n",
    "#pomdp = EmbryoCulture(length(vInit), vInit, nInit, 1);\n",
    "\n",
    "# start with two viable embryos at day 1\n",
    "s = EmbryoState(nInit, vInit);\n",
    "o = EmbryoObservation(2, [0;0;2], 1);\n",
    "b = initial_belief(mdp)\n",
    "updater = DiscreteUpdater(mdp) # this comes from POMDPToolbox\n",
    "\n",
    "rtot = 0.0\n",
    "# run the simulation for 5 days max\n",
    "for i = 1:5\n",
    "\n",
    "    a = action(qmdp_policy, b) # the QMDP action function returns the POMDP action not its index like the SARSOP action function\n",
    "    # compute the reward\n",
    "    r = reward(mdp, s, a)\n",
    "    rtot += r\n",
    "    \n",
    "    println(\"Time step $i\")\n",
    "    println(\"Taking action: $(a), got reward: $(r)\")\n",
    "    \n",
    "    # transition the system state\n",
    "    trans_dist = transition(mdp, s, a)\n",
    "    rand!(trans_dist, s)\n",
    "    # sample a new observation\n",
    "    obs_dist = observation(mdp, s, a)\n",
    "    rand!(obs_dist, o)\n",
    "    \n",
    "    # update the belief\n",
    "    b = update(updater, b, a, o)\n",
    "    \n",
    "    println(\"Saw observation: $(o)\\n\")\n",
    "\n",
    "end\n",
    "println(\"Total reward: $rtot\")"
   ]
  },
  {
   "cell_type": "code",
   "execution_count": 13,
   "metadata": {
    "collapsed": false
   },
   "outputs": [
    {
     "data": {
      "text/plain": [
       "true"
      ]
     },
     "execution_count": 13,
     "metadata": {},
     "output_type": "execute_result"
    }
   ],
   "source": [
    "isprobvec([0,.1,.9])"
   ]
  }
 ],
 "metadata": {
  "kernelspec": {
   "display_name": "Julia 0.3.11",
   "language": "julia",
   "name": "julia-0.3"
  },
  "language_info": {
   "file_extension": ".jl",
   "mimetype": "application/julia",
   "name": "julia",
   "version": "0.3.11"
  }
 },
 "nbformat": 4,
 "nbformat_minor": 0
}
